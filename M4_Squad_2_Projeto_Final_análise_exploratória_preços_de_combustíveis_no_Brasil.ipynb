{
  "nbformat": 4,
  "nbformat_minor": 0,
  "metadata": {
    "colab": {
      "provenance": [],
      "collapsed_sections": [],
      "toc_visible": true,
      "include_colab_link": true
    },
    "kernelspec": {
      "name": "python3",
      "display_name": "Python 3"
    },
    "language_info": {
      "name": "python"
    }
  },
  "cells": [
    {
      "cell_type": "markdown",
      "metadata": {
        "id": "view-in-github",
        "colab_type": "text"
      },
      "source": [
        "<a href=\"https://colab.research.google.com/github/joaovictojuliao/Squad-2-M4/blob/dayane/M4_Squad_2_Projeto_Final_an%C3%A1lise_explorat%C3%B3ria_pre%C3%A7os_de_combust%C3%ADveis_no_Brasil.ipynb\" target=\"_parent\"><img src=\"https://colab.research.google.com/assets/colab-badge.svg\" alt=\"Open In Colab\"/></a>"
      ]
    },
    {
      "cell_type": "markdown",
      "source": [
        "# **Análise Exploratória dos Preços de Combustíveis no Brasil**"
      ],
      "metadata": {
        "id": "6wvlMcbGD2Ok"
      }
    },
    {
      "cell_type": "markdown",
      "source": [
        "# **1. Introdução**"
      ],
      "metadata": {
        "id": "tSAGaNl6D4MF"
      }
    },
    {
      "cell_type": "markdown",
      "source": [
        "- Falar do objetivo e contexto da indústria dos combustíveis\n",
        "\n",
        "Explicando como o preço dos combustíveis é formado\n",
        "https://www.gov.br/anp/pt-br/assuntos/precos-e-defesa-da-concorrencia/precos/composicao-e-estruturas-de-formacao-dos-precos"
      ],
      "metadata": {
        "id": "XmFaJZ5hD_u0"
      }
    },
    {
      "cell_type": "markdown",
      "source": [
        "# **2. Apresentando os dados originais**\n",
        "\n"
      ],
      "metadata": {
        "id": "h4m_3SfJEDmN"
      }
    },
    {
      "cell_type": "markdown",
      "source": [
        "### **2.1 - Importação e concatenação**\n",
        " "
      ],
      "metadata": {
        "id": "vRhe0Bt5EIJA"
      }
    },
    {
      "cell_type": "code",
      "execution_count": null,
      "metadata": {
        "colab": {
          "base_uri": "https://localhost:8080/"
        },
        "id": "mh6A_6ctC0JK",
        "outputId": "06943cdd-279e-4182-d36c-d913aae6243e"
      },
      "outputs": [
        {
          "output_type": "stream",
          "name": "stdout",
          "text": [
            "Mounted at /content/drive\n"
          ]
        }
      ],
      "source": [
        "from google.colab import drive\n",
        "drive.mount('/content/drive')"
      ]
    },
    {
      "cell_type": "code",
      "source": [
        "# Importando a biblioteca Pandas e Matplotlib:\n",
        "import pandas as pd\n",
        "import matplotlib.pyplot as plt"
      ],
      "metadata": {
        "id": "TW70mpmLERDT"
      },
      "execution_count": null,
      "outputs": []
    },
    {
      "cell_type": "code",
      "source": [
        "# Importando dados do mês de julho:\n",
        "\n",
        "combustiveis_julho = pd.read_csv(\"/content/drive/MyDrive/Resilia - Módulo 4 - Projeto Final /CSV/precos-gasolina-etanol-07.csv\", sep = ';')\n",
        "\n",
        "# Importando dados do mês de agosto:\n",
        "\n",
        "combustiveis_agosto = pd.read_csv(\"/content/drive/MyDrive/Resilia - Módulo 4 - Projeto Final /CSV/precos-gasolina-etanol-08.csv\", sep=';')"
      ],
      "metadata": {
        "id": "IeKAha3PEX3i"
      },
      "execution_count": null,
      "outputs": []
    },
    {
      "cell_type": "code",
      "source": [
        "#Criando um novo dataset com a junção das tabelas anteriores:\n",
        "\n",
        "combustiveis = pd.concat([combustiveis_julho, combustiveis_agosto])"
      ],
      "metadata": {
        "id": "XlQWrBYgG5Ep"
      },
      "execution_count": null,
      "outputs": []
    },
    {
      "cell_type": "markdown",
      "source": [
        "### **2.2 -  Conhencendo a estrutura geral dos dados**"
      ],
      "metadata": {
        "id": "LjcVupeGHLFR"
      }
    },
    {
      "cell_type": "code",
      "source": [
        "# Identificando o formato do dataset original\n",
        "# O output retorna a quantidade de linhas e colunas, respectivamente:\n",
        "combustiveis.shape"
      ],
      "metadata": {
        "colab": {
          "base_uri": "https://localhost:8080/"
        },
        "id": "sp1_a2VBHaSf",
        "outputId": "7cc0d368-8716-4a06-fe5b-6d2b7fe8ac47"
      },
      "execution_count": null,
      "outputs": [
        {
          "output_type": "execute_result",
          "data": {
            "text/plain": [
              "(127176, 16)"
            ]
          },
          "metadata": {},
          "execution_count": 5
        }
      ]
    },
    {
      "cell_type": "code",
      "source": [
        "# Visualizando o dataset\n",
        "# O output retorna as 5 primeiras e 5 últimas linhas do dataframe.\n",
        "\n",
        "combustiveis"
      ],
      "metadata": {
        "colab": {
          "base_uri": "https://localhost:8080/",
          "height": 1000
        },
        "id": "N8eIe8uZHmmv",
        "outputId": "b7044cdc-36c3-4460-faed-d0c31c9fae09"
      },
      "execution_count": null,
      "outputs": [
        {
          "output_type": "execute_result",
          "data": {
            "text/plain": [
              "      Regiao - Sigla Estado - Sigla Municipio  \\\n",
              "0                 SE             ES  COLATINA   \n",
              "1                 SE             ES  COLATINA   \n",
              "2                 SE             ES  COLATINA   \n",
              "3                 SE             ES  COLATINA   \n",
              "4                 CO             GO   GOIANIA   \n",
              "...              ...            ...       ...   \n",
              "69539             CO             DF  BRASILIA   \n",
              "69540             CO             DF  BRASILIA   \n",
              "69541             CO             DF  BRASILIA   \n",
              "69542             SE             MG   JANAUBA   \n",
              "69543             SE             MG   JANAUBA   \n",
              "\n",
              "                                                 Revenda      CNPJ da Revenda  \\\n",
              "0      SAO FRANCISCO DE ASSIS COMERCIO DE COMBUSTIVEI...   08.519.545/0001-10   \n",
              "1      SAO FRANCISCO DE ASSIS COMERCIO DE COMBUSTIVEI...   08.519.545/0001-10   \n",
              "2                                     POSTO MOTOCAP LTDA   04.814.652/0001-10   \n",
              "3                                     POSTO MOTOCAP LTDA   04.814.652/0001-10   \n",
              "4                           JUSTINIANO & JUSTINIANO LTDA   04.489.287/0001-16   \n",
              "...                                                  ...                  ...   \n",
              "69539  POSTO TOP TAGUATINGA COMERCIO DE COMBUSTIVEIS ...   37.189.518/0001-25   \n",
              "69540  POSTO TOP TAGUATINGA COMERCIO DE COMBUSTIVEIS ...   37.189.518/0001-25   \n",
              "69541  POSTO TOP TAGUATINGA COMERCIO DE COMBUSTIVEIS ...   37.189.518/0001-25   \n",
              "69542         AUTO POSTO COMBUSTIVEIS VERAS SANTANA LTDA   33.063.482/0001-88   \n",
              "69543         AUTO POSTO COMBUSTIVEIS VERAS SANTANA LTDA   33.063.482/0001-88   \n",
              "\n",
              "                        Nome da Rua Numero Rua           Complemento  \\\n",
              "0             PRACA FIDELIS FERRARI         35                   NaN   \n",
              "1             PRACA FIDELIS FERRARI         35                   NaN   \n",
              "2           PRACA ALMIRANTE BARROSO         52               LETRA A   \n",
              "3           PRACA ALMIRANTE BARROSO         52               LETRA A   \n",
              "4      AVENIDA JOSE LEANDRO DA CRUZ       2,36    QUADRA 18, LOTE 01   \n",
              "...                             ...        ...                   ...   \n",
              "69539      QUADRA QI 23 LOTES 40/41         42  POSTO DE GASOLINA 01   \n",
              "69540      QUADRA QI 23 LOTES 40/41         42  POSTO DE GASOLINA 01   \n",
              "69541      QUADRA QI 23 LOTES 40/41         42  POSTO DE GASOLINA 01   \n",
              "69542            AVENIDA DA SAUDADE        656                   NaN   \n",
              "69543            AVENIDA DA SAUDADE        656                   NaN   \n",
              "\n",
              "                              Bairro        Cep             Produto  \\\n",
              "0                               LACE  29703-030  GASOLINA ADITIVADA   \n",
              "1                               LACE  29703-030            GASOLINA   \n",
              "2                               LACE  29703-055              ETANOL   \n",
              "3                               LACE  29703-055            GASOLINA   \n",
              "4                    PARQUE AMAZONIA  74840-390  GASOLINA ADITIVADA   \n",
              "...                              ...        ...                 ...   \n",
              "69539  SETOR INDUSTRIAL (TAGUATINGA)  72135-230              ETANOL   \n",
              "69540  SETOR INDUSTRIAL (TAGUATINGA)  72135-230            GASOLINA   \n",
              "69541  SETOR INDUSTRIAL (TAGUATINGA)  72135-230  GASOLINA ADITIVADA   \n",
              "69542                  SANTO ANTONIO  39447-190            GASOLINA   \n",
              "69543                  SANTO ANTONIO  39447-190              ETANOL   \n",
              "\n",
              "      Data da Coleta Valor de Venda  Valor de Compra Unidade de Medida  \\\n",
              "0         01/07/2022           7,48              NaN        R$ / litro   \n",
              "1         01/07/2022           7,38              NaN        R$ / litro   \n",
              "2         01/07/2022           5,99              NaN        R$ / litro   \n",
              "3         01/07/2022           7,39              NaN        R$ / litro   \n",
              "4         01/07/2022           6,49              NaN        R$ / litro   \n",
              "...              ...            ...              ...               ...   \n",
              "69539     31/08/2022           3,99              NaN        R$ / litro   \n",
              "69540     31/08/2022           5,19              NaN        R$ / litro   \n",
              "69541     31/08/2022           5,19              NaN        R$ / litro   \n",
              "69542     31/08/2022           5,27              NaN        R$ / litro   \n",
              "69543     31/08/2022           3,67              NaN        R$ / litro   \n",
              "\n",
              "            Bandeira  \n",
              "0      VIBRA ENERGIA  \n",
              "1      VIBRA ENERGIA  \n",
              "2      VIBRA ENERGIA  \n",
              "3      VIBRA ENERGIA  \n",
              "4           IPIRANGA  \n",
              "...              ...  \n",
              "69539       IPIRANGA  \n",
              "69540       IPIRANGA  \n",
              "69541       IPIRANGA  \n",
              "69542         BRANCA  \n",
              "69543         BRANCA  \n",
              "\n",
              "[127176 rows x 16 columns]"
            ],
            "text/html": [
              "\n",
              "  <div id=\"df-a3c8fde8-f60d-468a-a30b-9cbe6588e111\">\n",
              "    <div class=\"colab-df-container\">\n",
              "      <div>\n",
              "<style scoped>\n",
              "    .dataframe tbody tr th:only-of-type {\n",
              "        vertical-align: middle;\n",
              "    }\n",
              "\n",
              "    .dataframe tbody tr th {\n",
              "        vertical-align: top;\n",
              "    }\n",
              "\n",
              "    .dataframe thead th {\n",
              "        text-align: right;\n",
              "    }\n",
              "</style>\n",
              "<table border=\"1\" class=\"dataframe\">\n",
              "  <thead>\n",
              "    <tr style=\"text-align: right;\">\n",
              "      <th></th>\n",
              "      <th>Regiao - Sigla</th>\n",
              "      <th>Estado - Sigla</th>\n",
              "      <th>Municipio</th>\n",
              "      <th>Revenda</th>\n",
              "      <th>CNPJ da Revenda</th>\n",
              "      <th>Nome da Rua</th>\n",
              "      <th>Numero Rua</th>\n",
              "      <th>Complemento</th>\n",
              "      <th>Bairro</th>\n",
              "      <th>Cep</th>\n",
              "      <th>Produto</th>\n",
              "      <th>Data da Coleta</th>\n",
              "      <th>Valor de Venda</th>\n",
              "      <th>Valor de Compra</th>\n",
              "      <th>Unidade de Medida</th>\n",
              "      <th>Bandeira</th>\n",
              "    </tr>\n",
              "  </thead>\n",
              "  <tbody>\n",
              "    <tr>\n",
              "      <th>0</th>\n",
              "      <td>SE</td>\n",
              "      <td>ES</td>\n",
              "      <td>COLATINA</td>\n",
              "      <td>SAO FRANCISCO DE ASSIS COMERCIO DE COMBUSTIVEI...</td>\n",
              "      <td>08.519.545/0001-10</td>\n",
              "      <td>PRACA FIDELIS FERRARI</td>\n",
              "      <td>35</td>\n",
              "      <td>NaN</td>\n",
              "      <td>LACE</td>\n",
              "      <td>29703-030</td>\n",
              "      <td>GASOLINA ADITIVADA</td>\n",
              "      <td>01/07/2022</td>\n",
              "      <td>7,48</td>\n",
              "      <td>NaN</td>\n",
              "      <td>R$ / litro</td>\n",
              "      <td>VIBRA ENERGIA</td>\n",
              "    </tr>\n",
              "    <tr>\n",
              "      <th>1</th>\n",
              "      <td>SE</td>\n",
              "      <td>ES</td>\n",
              "      <td>COLATINA</td>\n",
              "      <td>SAO FRANCISCO DE ASSIS COMERCIO DE COMBUSTIVEI...</td>\n",
              "      <td>08.519.545/0001-10</td>\n",
              "      <td>PRACA FIDELIS FERRARI</td>\n",
              "      <td>35</td>\n",
              "      <td>NaN</td>\n",
              "      <td>LACE</td>\n",
              "      <td>29703-030</td>\n",
              "      <td>GASOLINA</td>\n",
              "      <td>01/07/2022</td>\n",
              "      <td>7,38</td>\n",
              "      <td>NaN</td>\n",
              "      <td>R$ / litro</td>\n",
              "      <td>VIBRA ENERGIA</td>\n",
              "    </tr>\n",
              "    <tr>\n",
              "      <th>2</th>\n",
              "      <td>SE</td>\n",
              "      <td>ES</td>\n",
              "      <td>COLATINA</td>\n",
              "      <td>POSTO MOTOCAP LTDA</td>\n",
              "      <td>04.814.652/0001-10</td>\n",
              "      <td>PRACA ALMIRANTE BARROSO</td>\n",
              "      <td>52</td>\n",
              "      <td>LETRA A</td>\n",
              "      <td>LACE</td>\n",
              "      <td>29703-055</td>\n",
              "      <td>ETANOL</td>\n",
              "      <td>01/07/2022</td>\n",
              "      <td>5,99</td>\n",
              "      <td>NaN</td>\n",
              "      <td>R$ / litro</td>\n",
              "      <td>VIBRA ENERGIA</td>\n",
              "    </tr>\n",
              "    <tr>\n",
              "      <th>3</th>\n",
              "      <td>SE</td>\n",
              "      <td>ES</td>\n",
              "      <td>COLATINA</td>\n",
              "      <td>POSTO MOTOCAP LTDA</td>\n",
              "      <td>04.814.652/0001-10</td>\n",
              "      <td>PRACA ALMIRANTE BARROSO</td>\n",
              "      <td>52</td>\n",
              "      <td>LETRA A</td>\n",
              "      <td>LACE</td>\n",
              "      <td>29703-055</td>\n",
              "      <td>GASOLINA</td>\n",
              "      <td>01/07/2022</td>\n",
              "      <td>7,39</td>\n",
              "      <td>NaN</td>\n",
              "      <td>R$ / litro</td>\n",
              "      <td>VIBRA ENERGIA</td>\n",
              "    </tr>\n",
              "    <tr>\n",
              "      <th>4</th>\n",
              "      <td>CO</td>\n",
              "      <td>GO</td>\n",
              "      <td>GOIANIA</td>\n",
              "      <td>JUSTINIANO &amp; JUSTINIANO LTDA</td>\n",
              "      <td>04.489.287/0001-16</td>\n",
              "      <td>AVENIDA JOSE LEANDRO DA CRUZ</td>\n",
              "      <td>2,36</td>\n",
              "      <td>QUADRA 18, LOTE 01</td>\n",
              "      <td>PARQUE AMAZONIA</td>\n",
              "      <td>74840-390</td>\n",
              "      <td>GASOLINA ADITIVADA</td>\n",
              "      <td>01/07/2022</td>\n",
              "      <td>6,49</td>\n",
              "      <td>NaN</td>\n",
              "      <td>R$ / litro</td>\n",
              "      <td>IPIRANGA</td>\n",
              "    </tr>\n",
              "    <tr>\n",
              "      <th>...</th>\n",
              "      <td>...</td>\n",
              "      <td>...</td>\n",
              "      <td>...</td>\n",
              "      <td>...</td>\n",
              "      <td>...</td>\n",
              "      <td>...</td>\n",
              "      <td>...</td>\n",
              "      <td>...</td>\n",
              "      <td>...</td>\n",
              "      <td>...</td>\n",
              "      <td>...</td>\n",
              "      <td>...</td>\n",
              "      <td>...</td>\n",
              "      <td>...</td>\n",
              "      <td>...</td>\n",
              "      <td>...</td>\n",
              "    </tr>\n",
              "    <tr>\n",
              "      <th>69539</th>\n",
              "      <td>CO</td>\n",
              "      <td>DF</td>\n",
              "      <td>BRASILIA</td>\n",
              "      <td>POSTO TOP TAGUATINGA COMERCIO DE COMBUSTIVEIS ...</td>\n",
              "      <td>37.189.518/0001-25</td>\n",
              "      <td>QUADRA QI 23 LOTES 40/41</td>\n",
              "      <td>42</td>\n",
              "      <td>POSTO DE GASOLINA 01</td>\n",
              "      <td>SETOR INDUSTRIAL (TAGUATINGA)</td>\n",
              "      <td>72135-230</td>\n",
              "      <td>ETANOL</td>\n",
              "      <td>31/08/2022</td>\n",
              "      <td>3,99</td>\n",
              "      <td>NaN</td>\n",
              "      <td>R$ / litro</td>\n",
              "      <td>IPIRANGA</td>\n",
              "    </tr>\n",
              "    <tr>\n",
              "      <th>69540</th>\n",
              "      <td>CO</td>\n",
              "      <td>DF</td>\n",
              "      <td>BRASILIA</td>\n",
              "      <td>POSTO TOP TAGUATINGA COMERCIO DE COMBUSTIVEIS ...</td>\n",
              "      <td>37.189.518/0001-25</td>\n",
              "      <td>QUADRA QI 23 LOTES 40/41</td>\n",
              "      <td>42</td>\n",
              "      <td>POSTO DE GASOLINA 01</td>\n",
              "      <td>SETOR INDUSTRIAL (TAGUATINGA)</td>\n",
              "      <td>72135-230</td>\n",
              "      <td>GASOLINA</td>\n",
              "      <td>31/08/2022</td>\n",
              "      <td>5,19</td>\n",
              "      <td>NaN</td>\n",
              "      <td>R$ / litro</td>\n",
              "      <td>IPIRANGA</td>\n",
              "    </tr>\n",
              "    <tr>\n",
              "      <th>69541</th>\n",
              "      <td>CO</td>\n",
              "      <td>DF</td>\n",
              "      <td>BRASILIA</td>\n",
              "      <td>POSTO TOP TAGUATINGA COMERCIO DE COMBUSTIVEIS ...</td>\n",
              "      <td>37.189.518/0001-25</td>\n",
              "      <td>QUADRA QI 23 LOTES 40/41</td>\n",
              "      <td>42</td>\n",
              "      <td>POSTO DE GASOLINA 01</td>\n",
              "      <td>SETOR INDUSTRIAL (TAGUATINGA)</td>\n",
              "      <td>72135-230</td>\n",
              "      <td>GASOLINA ADITIVADA</td>\n",
              "      <td>31/08/2022</td>\n",
              "      <td>5,19</td>\n",
              "      <td>NaN</td>\n",
              "      <td>R$ / litro</td>\n",
              "      <td>IPIRANGA</td>\n",
              "    </tr>\n",
              "    <tr>\n",
              "      <th>69542</th>\n",
              "      <td>SE</td>\n",
              "      <td>MG</td>\n",
              "      <td>JANAUBA</td>\n",
              "      <td>AUTO POSTO COMBUSTIVEIS VERAS SANTANA LTDA</td>\n",
              "      <td>33.063.482/0001-88</td>\n",
              "      <td>AVENIDA DA SAUDADE</td>\n",
              "      <td>656</td>\n",
              "      <td>NaN</td>\n",
              "      <td>SANTO ANTONIO</td>\n",
              "      <td>39447-190</td>\n",
              "      <td>GASOLINA</td>\n",
              "      <td>31/08/2022</td>\n",
              "      <td>5,27</td>\n",
              "      <td>NaN</td>\n",
              "      <td>R$ / litro</td>\n",
              "      <td>BRANCA</td>\n",
              "    </tr>\n",
              "    <tr>\n",
              "      <th>69543</th>\n",
              "      <td>SE</td>\n",
              "      <td>MG</td>\n",
              "      <td>JANAUBA</td>\n",
              "      <td>AUTO POSTO COMBUSTIVEIS VERAS SANTANA LTDA</td>\n",
              "      <td>33.063.482/0001-88</td>\n",
              "      <td>AVENIDA DA SAUDADE</td>\n",
              "      <td>656</td>\n",
              "      <td>NaN</td>\n",
              "      <td>SANTO ANTONIO</td>\n",
              "      <td>39447-190</td>\n",
              "      <td>ETANOL</td>\n",
              "      <td>31/08/2022</td>\n",
              "      <td>3,67</td>\n",
              "      <td>NaN</td>\n",
              "      <td>R$ / litro</td>\n",
              "      <td>BRANCA</td>\n",
              "    </tr>\n",
              "  </tbody>\n",
              "</table>\n",
              "<p>127176 rows × 16 columns</p>\n",
              "</div>\n",
              "      <button class=\"colab-df-convert\" onclick=\"convertToInteractive('df-a3c8fde8-f60d-468a-a30b-9cbe6588e111')\"\n",
              "              title=\"Convert this dataframe to an interactive table.\"\n",
              "              style=\"display:none;\">\n",
              "        \n",
              "  <svg xmlns=\"http://www.w3.org/2000/svg\" height=\"24px\"viewBox=\"0 0 24 24\"\n",
              "       width=\"24px\">\n",
              "    <path d=\"M0 0h24v24H0V0z\" fill=\"none\"/>\n",
              "    <path d=\"M18.56 5.44l.94 2.06.94-2.06 2.06-.94-2.06-.94-.94-2.06-.94 2.06-2.06.94zm-11 1L8.5 8.5l.94-2.06 2.06-.94-2.06-.94L8.5 2.5l-.94 2.06-2.06.94zm10 10l.94 2.06.94-2.06 2.06-.94-2.06-.94-.94-2.06-.94 2.06-2.06.94z\"/><path d=\"M17.41 7.96l-1.37-1.37c-.4-.4-.92-.59-1.43-.59-.52 0-1.04.2-1.43.59L10.3 9.45l-7.72 7.72c-.78.78-.78 2.05 0 2.83L4 21.41c.39.39.9.59 1.41.59.51 0 1.02-.2 1.41-.59l7.78-7.78 2.81-2.81c.8-.78.8-2.07 0-2.86zM5.41 20L4 18.59l7.72-7.72 1.47 1.35L5.41 20z\"/>\n",
              "  </svg>\n",
              "      </button>\n",
              "      \n",
              "  <style>\n",
              "    .colab-df-container {\n",
              "      display:flex;\n",
              "      flex-wrap:wrap;\n",
              "      gap: 12px;\n",
              "    }\n",
              "\n",
              "    .colab-df-convert {\n",
              "      background-color: #E8F0FE;\n",
              "      border: none;\n",
              "      border-radius: 50%;\n",
              "      cursor: pointer;\n",
              "      display: none;\n",
              "      fill: #1967D2;\n",
              "      height: 32px;\n",
              "      padding: 0 0 0 0;\n",
              "      width: 32px;\n",
              "    }\n",
              "\n",
              "    .colab-df-convert:hover {\n",
              "      background-color: #E2EBFA;\n",
              "      box-shadow: 0px 1px 2px rgba(60, 64, 67, 0.3), 0px 1px 3px 1px rgba(60, 64, 67, 0.15);\n",
              "      fill: #174EA6;\n",
              "    }\n",
              "\n",
              "    [theme=dark] .colab-df-convert {\n",
              "      background-color: #3B4455;\n",
              "      fill: #D2E3FC;\n",
              "    }\n",
              "\n",
              "    [theme=dark] .colab-df-convert:hover {\n",
              "      background-color: #434B5C;\n",
              "      box-shadow: 0px 1px 3px 1px rgba(0, 0, 0, 0.15);\n",
              "      filter: drop-shadow(0px 1px 2px rgba(0, 0, 0, 0.3));\n",
              "      fill: #FFFFFF;\n",
              "    }\n",
              "  </style>\n",
              "\n",
              "      <script>\n",
              "        const buttonEl =\n",
              "          document.querySelector('#df-a3c8fde8-f60d-468a-a30b-9cbe6588e111 button.colab-df-convert');\n",
              "        buttonEl.style.display =\n",
              "          google.colab.kernel.accessAllowed ? 'block' : 'none';\n",
              "\n",
              "        async function convertToInteractive(key) {\n",
              "          const element = document.querySelector('#df-a3c8fde8-f60d-468a-a30b-9cbe6588e111');\n",
              "          const dataTable =\n",
              "            await google.colab.kernel.invokeFunction('convertToInteractive',\n",
              "                                                     [key], {});\n",
              "          if (!dataTable) return;\n",
              "\n",
              "          const docLinkHtml = 'Like what you see? Visit the ' +\n",
              "            '<a target=\"_blank\" href=https://colab.research.google.com/notebooks/data_table.ipynb>data table notebook</a>'\n",
              "            + ' to learn more about interactive tables.';\n",
              "          element.innerHTML = '';\n",
              "          dataTable['output_type'] = 'display_data';\n",
              "          await google.colab.output.renderOutput(dataTable, element);\n",
              "          const docLink = document.createElement('div');\n",
              "          docLink.innerHTML = docLinkHtml;\n",
              "          element.appendChild(docLink);\n",
              "        }\n",
              "      </script>\n",
              "    </div>\n",
              "  </div>\n",
              "  "
            ]
          },
          "metadata": {},
          "execution_count": 6
        }
      ]
    },
    {
      "cell_type": "code",
      "source": [
        "# Conferindo os tipos de dados do dataset:\n",
        "display(combustiveis.dtypes)"
      ],
      "metadata": {
        "colab": {
          "base_uri": "https://localhost:8080/",
          "height": 312
        },
        "id": "17lq6OgPH017",
        "outputId": "027ac7bf-5629-4262-b0d2-6be05ae235b4"
      },
      "execution_count": null,
      "outputs": [
        {
          "output_type": "display_data",
          "data": {
            "text/plain": [
              "Regiao - Sigla        object\n",
              "Estado - Sigla        object\n",
              "Municipio             object\n",
              "Revenda               object\n",
              "CNPJ da Revenda       object\n",
              "Nome da Rua           object\n",
              "Numero Rua            object\n",
              "Complemento           object\n",
              "Bairro                object\n",
              "Cep                   object\n",
              "Produto               object\n",
              "Data da Coleta        object\n",
              "Valor de Venda        object\n",
              "Valor de Compra      float64\n",
              "Unidade de Medida     object\n",
              "Bandeira              object\n",
              "dtype: object"
            ]
          },
          "metadata": {}
        }
      ]
    },
    {
      "cell_type": "markdown",
      "source": [
        "### **2.2 Conclusões**"
      ],
      "metadata": {
        "id": "Gzw4oqZjH9Vo"
      }
    },
    {
      "cell_type": "markdown",
      "source": [
        "# **3. Tratamento inicial dos dados**"
      ],
      "metadata": {
        "id": "WG9FkSFsIGl_"
      }
    },
    {
      "cell_type": "code",
      "source": [
        "# Eliminando as colunas desnecessárias para a análise:\n",
        "combustiveis.drop([\"CNPJ da Revenda\", \"Nome da Rua\", \"Numero Rua\", \"Complemento\", \"Bairro\", \"Cep\", \"Valor de Compra\", \"Unidade de Medida\"], axis=1, inplace=True)"
      ],
      "metadata": {
        "id": "-u36uQS-Ia78"
      },
      "execution_count": null,
      "outputs": []
    },
    {
      "cell_type": "code",
      "source": [
        "# Definindo a coluna 'Produto' como novo índex para o dataset:\n",
        "combustiveis = combustiveis.set_index('Produto')"
      ],
      "metadata": {
        "id": "BmpNfOgSIxEO"
      },
      "execution_count": null,
      "outputs": []
    },
    {
      "cell_type": "code",
      "source": [
        "#Convertendo a coluna 'Valor de Venda' para tipo float e alterando o separador decimal para ponto:\n",
        "combustiveis['Valor de Venda'] = combustiveis['Valor de Venda'].str.replace(',','.').astype(float)"
      ],
      "metadata": {
        "id": "B5jRZ-XjJA8O"
      },
      "execution_count": null,
      "outputs": []
    },
    {
      "cell_type": "code",
      "source": [
        "#Convertendo a coluna 'Data da Coleta' para tipo datetime:\n",
        "combustiveis['Data da Coleta'] = pd.to_datetime( combustiveis['Data da Coleta'], format=\"%d/%m/%Y\")\n",
        "combustiveis\n"
      ],
      "metadata": {
        "id": "OCz1E71gJg_A",
        "colab": {
          "base_uri": "https://localhost:8080/",
          "height": 690
        },
        "outputId": "ed80c0c7-d01b-4685-ebae-72b5a4c6bf97"
      },
      "execution_count": null,
      "outputs": [
        {
          "output_type": "execute_result",
          "data": {
            "text/plain": [
              "                   Regiao - Sigla Estado - Sigla Municipio  \\\n",
              "Produto                                                      \n",
              "GASOLINA ADITIVADA             SE             ES  COLATINA   \n",
              "GASOLINA                       SE             ES  COLATINA   \n",
              "ETANOL                         SE             ES  COLATINA   \n",
              "GASOLINA                       SE             ES  COLATINA   \n",
              "GASOLINA ADITIVADA             CO             GO   GOIANIA   \n",
              "...                           ...            ...       ...   \n",
              "ETANOL                         CO             DF  BRASILIA   \n",
              "GASOLINA                       CO             DF  BRASILIA   \n",
              "GASOLINA ADITIVADA             CO             DF  BRASILIA   \n",
              "GASOLINA                       SE             MG   JANAUBA   \n",
              "ETANOL                         SE             MG   JANAUBA   \n",
              "\n",
              "                                                              Revenda  \\\n",
              "Produto                                                                 \n",
              "GASOLINA ADITIVADA  SAO FRANCISCO DE ASSIS COMERCIO DE COMBUSTIVEI...   \n",
              "GASOLINA            SAO FRANCISCO DE ASSIS COMERCIO DE COMBUSTIVEI...   \n",
              "ETANOL                                             POSTO MOTOCAP LTDA   \n",
              "GASOLINA                                           POSTO MOTOCAP LTDA   \n",
              "GASOLINA ADITIVADA                       JUSTINIANO & JUSTINIANO LTDA   \n",
              "...                                                               ...   \n",
              "ETANOL              POSTO TOP TAGUATINGA COMERCIO DE COMBUSTIVEIS ...   \n",
              "GASOLINA            POSTO TOP TAGUATINGA COMERCIO DE COMBUSTIVEIS ...   \n",
              "GASOLINA ADITIVADA  POSTO TOP TAGUATINGA COMERCIO DE COMBUSTIVEIS ...   \n",
              "GASOLINA                   AUTO POSTO COMBUSTIVEIS VERAS SANTANA LTDA   \n",
              "ETANOL                     AUTO POSTO COMBUSTIVEIS VERAS SANTANA LTDA   \n",
              "\n",
              "                   Data da Coleta  Valor de Venda       Bandeira  \n",
              "Produto                                                           \n",
              "GASOLINA ADITIVADA     2022-07-01            7.48  VIBRA ENERGIA  \n",
              "GASOLINA               2022-07-01            7.38  VIBRA ENERGIA  \n",
              "ETANOL                 2022-07-01            5.99  VIBRA ENERGIA  \n",
              "GASOLINA               2022-07-01            7.39  VIBRA ENERGIA  \n",
              "GASOLINA ADITIVADA     2022-07-01            6.49       IPIRANGA  \n",
              "...                           ...             ...            ...  \n",
              "ETANOL                 2022-08-31            3.99       IPIRANGA  \n",
              "GASOLINA               2022-08-31            5.19       IPIRANGA  \n",
              "GASOLINA ADITIVADA     2022-08-31            5.19       IPIRANGA  \n",
              "GASOLINA               2022-08-31            5.27         BRANCA  \n",
              "ETANOL                 2022-08-31            3.67         BRANCA  \n",
              "\n",
              "[127176 rows x 7 columns]"
            ],
            "text/html": [
              "\n",
              "  <div id=\"df-bcdebc50-1c27-402a-9b4c-82d5381a1c80\">\n",
              "    <div class=\"colab-df-container\">\n",
              "      <div>\n",
              "<style scoped>\n",
              "    .dataframe tbody tr th:only-of-type {\n",
              "        vertical-align: middle;\n",
              "    }\n",
              "\n",
              "    .dataframe tbody tr th {\n",
              "        vertical-align: top;\n",
              "    }\n",
              "\n",
              "    .dataframe thead th {\n",
              "        text-align: right;\n",
              "    }\n",
              "</style>\n",
              "<table border=\"1\" class=\"dataframe\">\n",
              "  <thead>\n",
              "    <tr style=\"text-align: right;\">\n",
              "      <th></th>\n",
              "      <th>Regiao - Sigla</th>\n",
              "      <th>Estado - Sigla</th>\n",
              "      <th>Municipio</th>\n",
              "      <th>Revenda</th>\n",
              "      <th>Data da Coleta</th>\n",
              "      <th>Valor de Venda</th>\n",
              "      <th>Bandeira</th>\n",
              "    </tr>\n",
              "    <tr>\n",
              "      <th>Produto</th>\n",
              "      <th></th>\n",
              "      <th></th>\n",
              "      <th></th>\n",
              "      <th></th>\n",
              "      <th></th>\n",
              "      <th></th>\n",
              "      <th></th>\n",
              "    </tr>\n",
              "  </thead>\n",
              "  <tbody>\n",
              "    <tr>\n",
              "      <th>GASOLINA ADITIVADA</th>\n",
              "      <td>SE</td>\n",
              "      <td>ES</td>\n",
              "      <td>COLATINA</td>\n",
              "      <td>SAO FRANCISCO DE ASSIS COMERCIO DE COMBUSTIVEI...</td>\n",
              "      <td>2022-07-01</td>\n",
              "      <td>7.48</td>\n",
              "      <td>VIBRA ENERGIA</td>\n",
              "    </tr>\n",
              "    <tr>\n",
              "      <th>GASOLINA</th>\n",
              "      <td>SE</td>\n",
              "      <td>ES</td>\n",
              "      <td>COLATINA</td>\n",
              "      <td>SAO FRANCISCO DE ASSIS COMERCIO DE COMBUSTIVEI...</td>\n",
              "      <td>2022-07-01</td>\n",
              "      <td>7.38</td>\n",
              "      <td>VIBRA ENERGIA</td>\n",
              "    </tr>\n",
              "    <tr>\n",
              "      <th>ETANOL</th>\n",
              "      <td>SE</td>\n",
              "      <td>ES</td>\n",
              "      <td>COLATINA</td>\n",
              "      <td>POSTO MOTOCAP LTDA</td>\n",
              "      <td>2022-07-01</td>\n",
              "      <td>5.99</td>\n",
              "      <td>VIBRA ENERGIA</td>\n",
              "    </tr>\n",
              "    <tr>\n",
              "      <th>GASOLINA</th>\n",
              "      <td>SE</td>\n",
              "      <td>ES</td>\n",
              "      <td>COLATINA</td>\n",
              "      <td>POSTO MOTOCAP LTDA</td>\n",
              "      <td>2022-07-01</td>\n",
              "      <td>7.39</td>\n",
              "      <td>VIBRA ENERGIA</td>\n",
              "    </tr>\n",
              "    <tr>\n",
              "      <th>GASOLINA ADITIVADA</th>\n",
              "      <td>CO</td>\n",
              "      <td>GO</td>\n",
              "      <td>GOIANIA</td>\n",
              "      <td>JUSTINIANO &amp; JUSTINIANO LTDA</td>\n",
              "      <td>2022-07-01</td>\n",
              "      <td>6.49</td>\n",
              "      <td>IPIRANGA</td>\n",
              "    </tr>\n",
              "    <tr>\n",
              "      <th>...</th>\n",
              "      <td>...</td>\n",
              "      <td>...</td>\n",
              "      <td>...</td>\n",
              "      <td>...</td>\n",
              "      <td>...</td>\n",
              "      <td>...</td>\n",
              "      <td>...</td>\n",
              "    </tr>\n",
              "    <tr>\n",
              "      <th>ETANOL</th>\n",
              "      <td>CO</td>\n",
              "      <td>DF</td>\n",
              "      <td>BRASILIA</td>\n",
              "      <td>POSTO TOP TAGUATINGA COMERCIO DE COMBUSTIVEIS ...</td>\n",
              "      <td>2022-08-31</td>\n",
              "      <td>3.99</td>\n",
              "      <td>IPIRANGA</td>\n",
              "    </tr>\n",
              "    <tr>\n",
              "      <th>GASOLINA</th>\n",
              "      <td>CO</td>\n",
              "      <td>DF</td>\n",
              "      <td>BRASILIA</td>\n",
              "      <td>POSTO TOP TAGUATINGA COMERCIO DE COMBUSTIVEIS ...</td>\n",
              "      <td>2022-08-31</td>\n",
              "      <td>5.19</td>\n",
              "      <td>IPIRANGA</td>\n",
              "    </tr>\n",
              "    <tr>\n",
              "      <th>GASOLINA ADITIVADA</th>\n",
              "      <td>CO</td>\n",
              "      <td>DF</td>\n",
              "      <td>BRASILIA</td>\n",
              "      <td>POSTO TOP TAGUATINGA COMERCIO DE COMBUSTIVEIS ...</td>\n",
              "      <td>2022-08-31</td>\n",
              "      <td>5.19</td>\n",
              "      <td>IPIRANGA</td>\n",
              "    </tr>\n",
              "    <tr>\n",
              "      <th>GASOLINA</th>\n",
              "      <td>SE</td>\n",
              "      <td>MG</td>\n",
              "      <td>JANAUBA</td>\n",
              "      <td>AUTO POSTO COMBUSTIVEIS VERAS SANTANA LTDA</td>\n",
              "      <td>2022-08-31</td>\n",
              "      <td>5.27</td>\n",
              "      <td>BRANCA</td>\n",
              "    </tr>\n",
              "    <tr>\n",
              "      <th>ETANOL</th>\n",
              "      <td>SE</td>\n",
              "      <td>MG</td>\n",
              "      <td>JANAUBA</td>\n",
              "      <td>AUTO POSTO COMBUSTIVEIS VERAS SANTANA LTDA</td>\n",
              "      <td>2022-08-31</td>\n",
              "      <td>3.67</td>\n",
              "      <td>BRANCA</td>\n",
              "    </tr>\n",
              "  </tbody>\n",
              "</table>\n",
              "<p>127176 rows × 7 columns</p>\n",
              "</div>\n",
              "      <button class=\"colab-df-convert\" onclick=\"convertToInteractive('df-bcdebc50-1c27-402a-9b4c-82d5381a1c80')\"\n",
              "              title=\"Convert this dataframe to an interactive table.\"\n",
              "              style=\"display:none;\">\n",
              "        \n",
              "  <svg xmlns=\"http://www.w3.org/2000/svg\" height=\"24px\"viewBox=\"0 0 24 24\"\n",
              "       width=\"24px\">\n",
              "    <path d=\"M0 0h24v24H0V0z\" fill=\"none\"/>\n",
              "    <path d=\"M18.56 5.44l.94 2.06.94-2.06 2.06-.94-2.06-.94-.94-2.06-.94 2.06-2.06.94zm-11 1L8.5 8.5l.94-2.06 2.06-.94-2.06-.94L8.5 2.5l-.94 2.06-2.06.94zm10 10l.94 2.06.94-2.06 2.06-.94-2.06-.94-.94-2.06-.94 2.06-2.06.94z\"/><path d=\"M17.41 7.96l-1.37-1.37c-.4-.4-.92-.59-1.43-.59-.52 0-1.04.2-1.43.59L10.3 9.45l-7.72 7.72c-.78.78-.78 2.05 0 2.83L4 21.41c.39.39.9.59 1.41.59.51 0 1.02-.2 1.41-.59l7.78-7.78 2.81-2.81c.8-.78.8-2.07 0-2.86zM5.41 20L4 18.59l7.72-7.72 1.47 1.35L5.41 20z\"/>\n",
              "  </svg>\n",
              "      </button>\n",
              "      \n",
              "  <style>\n",
              "    .colab-df-container {\n",
              "      display:flex;\n",
              "      flex-wrap:wrap;\n",
              "      gap: 12px;\n",
              "    }\n",
              "\n",
              "    .colab-df-convert {\n",
              "      background-color: #E8F0FE;\n",
              "      border: none;\n",
              "      border-radius: 50%;\n",
              "      cursor: pointer;\n",
              "      display: none;\n",
              "      fill: #1967D2;\n",
              "      height: 32px;\n",
              "      padding: 0 0 0 0;\n",
              "      width: 32px;\n",
              "    }\n",
              "\n",
              "    .colab-df-convert:hover {\n",
              "      background-color: #E2EBFA;\n",
              "      box-shadow: 0px 1px 2px rgba(60, 64, 67, 0.3), 0px 1px 3px 1px rgba(60, 64, 67, 0.15);\n",
              "      fill: #174EA6;\n",
              "    }\n",
              "\n",
              "    [theme=dark] .colab-df-convert {\n",
              "      background-color: #3B4455;\n",
              "      fill: #D2E3FC;\n",
              "    }\n",
              "\n",
              "    [theme=dark] .colab-df-convert:hover {\n",
              "      background-color: #434B5C;\n",
              "      box-shadow: 0px 1px 3px 1px rgba(0, 0, 0, 0.15);\n",
              "      filter: drop-shadow(0px 1px 2px rgba(0, 0, 0, 0.3));\n",
              "      fill: #FFFFFF;\n",
              "    }\n",
              "  </style>\n",
              "\n",
              "      <script>\n",
              "        const buttonEl =\n",
              "          document.querySelector('#df-bcdebc50-1c27-402a-9b4c-82d5381a1c80 button.colab-df-convert');\n",
              "        buttonEl.style.display =\n",
              "          google.colab.kernel.accessAllowed ? 'block' : 'none';\n",
              "\n",
              "        async function convertToInteractive(key) {\n",
              "          const element = document.querySelector('#df-bcdebc50-1c27-402a-9b4c-82d5381a1c80');\n",
              "          const dataTable =\n",
              "            await google.colab.kernel.invokeFunction('convertToInteractive',\n",
              "                                                     [key], {});\n",
              "          if (!dataTable) return;\n",
              "\n",
              "          const docLinkHtml = 'Like what you see? Visit the ' +\n",
              "            '<a target=\"_blank\" href=https://colab.research.google.com/notebooks/data_table.ipynb>data table notebook</a>'\n",
              "            + ' to learn more about interactive tables.';\n",
              "          element.innerHTML = '';\n",
              "          dataTable['output_type'] = 'display_data';\n",
              "          await google.colab.output.renderOutput(dataTable, element);\n",
              "          const docLink = document.createElement('div');\n",
              "          docLink.innerHTML = docLinkHtml;\n",
              "          element.appendChild(docLink);\n",
              "        }\n",
              "      </script>\n",
              "    </div>\n",
              "  </div>\n",
              "  "
            ]
          },
          "metadata": {},
          "execution_count": 11
        }
      ]
    },
    {
      "cell_type": "markdown",
      "source": [
        "# **4. Verificando a qualidade dos dados**"
      ],
      "metadata": {
        "id": "r-xwLoz3KBwf"
      }
    },
    {
      "cell_type": "markdown",
      "source": [
        "### **4.1 - Identificando dados nulos**"
      ],
      "metadata": {
        "id": "WHKgN__UKYSm"
      }
    },
    {
      "cell_type": "code",
      "source": [
        "combustiveis.info()"
      ],
      "metadata": {
        "colab": {
          "base_uri": "https://localhost:8080/"
        },
        "id": "t6_3NjF5KecM",
        "outputId": "c886ca18-8b55-4be5-ae11-717f3b87ed76"
      },
      "execution_count": null,
      "outputs": [
        {
          "output_type": "stream",
          "name": "stdout",
          "text": [
            "<class 'pandas.core.frame.DataFrame'>\n",
            "Index: 127176 entries, GASOLINA ADITIVADA to ETANOL\n",
            "Data columns (total 7 columns):\n",
            " #   Column          Non-Null Count   Dtype         \n",
            "---  ------          --------------   -----         \n",
            " 0   Regiao - Sigla  127176 non-null  object        \n",
            " 1   Estado - Sigla  127176 non-null  object        \n",
            " 2   Municipio       127176 non-null  object        \n",
            " 3   Revenda         127176 non-null  object        \n",
            " 4   Data da Coleta  127176 non-null  datetime64[ns]\n",
            " 5   Valor de Venda  127176 non-null  float64       \n",
            " 6   Bandeira        127176 non-null  object        \n",
            "dtypes: datetime64[ns](1), float64(1), object(5)\n",
            "memory usage: 7.8+ MB\n"
          ]
        }
      ]
    },
    {
      "cell_type": "markdown",
      "source": [
        "### **4.2 - Identificando dados duplicados:**"
      ],
      "metadata": {
        "id": "s2l3zImtKklH"
      }
    },
    {
      "cell_type": "code",
      "source": [
        "combustiveis.value_counts()"
      ],
      "metadata": {
        "colab": {
          "base_uri": "https://localhost:8080/"
        },
        "id": "pGMWBppsad-v",
        "outputId": "d327fedf-d462-472d-f5ff-565df8153956"
      },
      "execution_count": null,
      "outputs": [
        {
          "output_type": "execute_result",
          "data": {
            "text/plain": [
              "Regiao - Sigla  Estado - Sigla  Municipio       Revenda                                               Data da Coleta  Valor de Venda  Bandeira     \n",
              "CO              DF              BRASILIA        CASCOL COMBUSTIVEIS PARA VEICULOS LTDA                2022-07-26      5.93            BRANCA           12\n",
              "N               RO              PORTO VELHO     AUTO POSTO CALAMA LTDA                                2022-08-10      5.29            ATEM' S          10\n",
              "CO              DF              BRASILIA        CASCOL COMBUSTIVEIS PARA VEICULOS LTDA                2022-08-09      5.45            BRANCA            8\n",
              "S               SC              JARAGUA DO SUL  POSTO CIDADE LTDA                                     2022-07-28      5.38            VIBRA ENERGIA     8\n",
              "CO              DF              BRASILIA        CASCOL COMBUSTIVEIS PARA VEICULOS LTDA                2022-08-31      5.23            BRANCA            8\n",
              "                                                                                                                                                       ..\n",
              "S               PR              CAMPO LARGO     V & P COMÉRCIO DE COMBUSTÍVEIS E LUBRIFICANTES LTDA.  2022-08-01      5.69            BRANCA            1\n",
              "                                                                                                                      4.68            BRANCA            1\n",
              "                                                                                                      2022-07-21      5.79            BRANCA            1\n",
              "                                                                                                                      4.88            BRANCA            1\n",
              "SE              SP              VOTUPORANGA     VITORIA COMERCIO DE COMBUSTIVEIS DE VOTUPORANGA LTDA  2022-08-23      5.19            IPIRANGA          1\n",
              "Length: 116348, dtype: int64"
            ]
          },
          "metadata": {},
          "execution_count": 13
        }
      ]
    },
    {
      "cell_type": "code",
      "source": [
        "#Retirando os dados duplicados:\n",
        "combustiveis.drop_duplicates()\n"
      ],
      "metadata": {
        "id": "A0-pcTlShQGJ",
        "colab": {
          "base_uri": "https://localhost:8080/",
          "height": 673
        },
        "outputId": "6457cbfe-e4fb-4773-8717-a3b2fc89c9d6"
      },
      "execution_count": null,
      "outputs": [
        {
          "output_type": "execute_result",
          "data": {
            "text/plain": [
              "                   Regiao - Sigla Estado - Sigla Municipio  \\\n",
              "Produto                                                      \n",
              "GASOLINA ADITIVADA             SE             ES  COLATINA   \n",
              "GASOLINA                       SE             ES  COLATINA   \n",
              "ETANOL                         SE             ES  COLATINA   \n",
              "GASOLINA                       SE             ES  COLATINA   \n",
              "GASOLINA ADITIVADA             CO             GO   GOIANIA   \n",
              "...                           ...            ...       ...   \n",
              "ETANOL                         NE             PE    RECIFE   \n",
              "ETANOL                         CO             DF  BRASILIA   \n",
              "GASOLINA                       CO             DF  BRASILIA   \n",
              "GASOLINA                       SE             MG   JANAUBA   \n",
              "ETANOL                         SE             MG   JANAUBA   \n",
              "\n",
              "                                                              Revenda  \\\n",
              "Produto                                                                 \n",
              "GASOLINA ADITIVADA  SAO FRANCISCO DE ASSIS COMERCIO DE COMBUSTIVEI...   \n",
              "GASOLINA            SAO FRANCISCO DE ASSIS COMERCIO DE COMBUSTIVEI...   \n",
              "ETANOL                                             POSTO MOTOCAP LTDA   \n",
              "GASOLINA                                           POSTO MOTOCAP LTDA   \n",
              "GASOLINA ADITIVADA                       JUSTINIANO & JUSTINIANO LTDA   \n",
              "...                                                               ...   \n",
              "ETANOL                                       BRAZ COMBUSTIVEIS EIRELI   \n",
              "ETANOL              POSTO TOP TAGUATINGA COMERCIO DE COMBUSTIVEIS ...   \n",
              "GASOLINA            POSTO TOP TAGUATINGA COMERCIO DE COMBUSTIVEIS ...   \n",
              "GASOLINA                   AUTO POSTO COMBUSTIVEIS VERAS SANTANA LTDA   \n",
              "ETANOL                     AUTO POSTO COMBUSTIVEIS VERAS SANTANA LTDA   \n",
              "\n",
              "                   Data da Coleta  Valor de Venda       Bandeira  \n",
              "Produto                                                           \n",
              "GASOLINA ADITIVADA     2022-07-01            7.48  VIBRA ENERGIA  \n",
              "GASOLINA               2022-07-01            7.38  VIBRA ENERGIA  \n",
              "ETANOL                 2022-07-01            5.99  VIBRA ENERGIA  \n",
              "GASOLINA               2022-07-01            7.39  VIBRA ENERGIA  \n",
              "GASOLINA ADITIVADA     2022-07-01            6.49       IPIRANGA  \n",
              "...                           ...             ...            ...  \n",
              "ETANOL                 2022-08-31            4.29         BRANCA  \n",
              "ETANOL                 2022-08-31            3.99       IPIRANGA  \n",
              "GASOLINA               2022-08-31            5.19       IPIRANGA  \n",
              "GASOLINA               2022-08-31            5.27         BRANCA  \n",
              "ETANOL                 2022-08-31            3.67         BRANCA  \n",
              "\n",
              "[116348 rows x 7 columns]"
            ],
            "text/html": [
              "\n",
              "  <div id=\"df-7e911509-63d7-4f71-b9e9-0a78711a71fd\">\n",
              "    <div class=\"colab-df-container\">\n",
              "      <div>\n",
              "<style scoped>\n",
              "    .dataframe tbody tr th:only-of-type {\n",
              "        vertical-align: middle;\n",
              "    }\n",
              "\n",
              "    .dataframe tbody tr th {\n",
              "        vertical-align: top;\n",
              "    }\n",
              "\n",
              "    .dataframe thead th {\n",
              "        text-align: right;\n",
              "    }\n",
              "</style>\n",
              "<table border=\"1\" class=\"dataframe\">\n",
              "  <thead>\n",
              "    <tr style=\"text-align: right;\">\n",
              "      <th></th>\n",
              "      <th>Regiao - Sigla</th>\n",
              "      <th>Estado - Sigla</th>\n",
              "      <th>Municipio</th>\n",
              "      <th>Revenda</th>\n",
              "      <th>Data da Coleta</th>\n",
              "      <th>Valor de Venda</th>\n",
              "      <th>Bandeira</th>\n",
              "    </tr>\n",
              "    <tr>\n",
              "      <th>Produto</th>\n",
              "      <th></th>\n",
              "      <th></th>\n",
              "      <th></th>\n",
              "      <th></th>\n",
              "      <th></th>\n",
              "      <th></th>\n",
              "      <th></th>\n",
              "    </tr>\n",
              "  </thead>\n",
              "  <tbody>\n",
              "    <tr>\n",
              "      <th>GASOLINA ADITIVADA</th>\n",
              "      <td>SE</td>\n",
              "      <td>ES</td>\n",
              "      <td>COLATINA</td>\n",
              "      <td>SAO FRANCISCO DE ASSIS COMERCIO DE COMBUSTIVEI...</td>\n",
              "      <td>2022-07-01</td>\n",
              "      <td>7.48</td>\n",
              "      <td>VIBRA ENERGIA</td>\n",
              "    </tr>\n",
              "    <tr>\n",
              "      <th>GASOLINA</th>\n",
              "      <td>SE</td>\n",
              "      <td>ES</td>\n",
              "      <td>COLATINA</td>\n",
              "      <td>SAO FRANCISCO DE ASSIS COMERCIO DE COMBUSTIVEI...</td>\n",
              "      <td>2022-07-01</td>\n",
              "      <td>7.38</td>\n",
              "      <td>VIBRA ENERGIA</td>\n",
              "    </tr>\n",
              "    <tr>\n",
              "      <th>ETANOL</th>\n",
              "      <td>SE</td>\n",
              "      <td>ES</td>\n",
              "      <td>COLATINA</td>\n",
              "      <td>POSTO MOTOCAP LTDA</td>\n",
              "      <td>2022-07-01</td>\n",
              "      <td>5.99</td>\n",
              "      <td>VIBRA ENERGIA</td>\n",
              "    </tr>\n",
              "    <tr>\n",
              "      <th>GASOLINA</th>\n",
              "      <td>SE</td>\n",
              "      <td>ES</td>\n",
              "      <td>COLATINA</td>\n",
              "      <td>POSTO MOTOCAP LTDA</td>\n",
              "      <td>2022-07-01</td>\n",
              "      <td>7.39</td>\n",
              "      <td>VIBRA ENERGIA</td>\n",
              "    </tr>\n",
              "    <tr>\n",
              "      <th>GASOLINA ADITIVADA</th>\n",
              "      <td>CO</td>\n",
              "      <td>GO</td>\n",
              "      <td>GOIANIA</td>\n",
              "      <td>JUSTINIANO &amp; JUSTINIANO LTDA</td>\n",
              "      <td>2022-07-01</td>\n",
              "      <td>6.49</td>\n",
              "      <td>IPIRANGA</td>\n",
              "    </tr>\n",
              "    <tr>\n",
              "      <th>...</th>\n",
              "      <td>...</td>\n",
              "      <td>...</td>\n",
              "      <td>...</td>\n",
              "      <td>...</td>\n",
              "      <td>...</td>\n",
              "      <td>...</td>\n",
              "      <td>...</td>\n",
              "    </tr>\n",
              "    <tr>\n",
              "      <th>ETANOL</th>\n",
              "      <td>NE</td>\n",
              "      <td>PE</td>\n",
              "      <td>RECIFE</td>\n",
              "      <td>BRAZ COMBUSTIVEIS EIRELI</td>\n",
              "      <td>2022-08-31</td>\n",
              "      <td>4.29</td>\n",
              "      <td>BRANCA</td>\n",
              "    </tr>\n",
              "    <tr>\n",
              "      <th>ETANOL</th>\n",
              "      <td>CO</td>\n",
              "      <td>DF</td>\n",
              "      <td>BRASILIA</td>\n",
              "      <td>POSTO TOP TAGUATINGA COMERCIO DE COMBUSTIVEIS ...</td>\n",
              "      <td>2022-08-31</td>\n",
              "      <td>3.99</td>\n",
              "      <td>IPIRANGA</td>\n",
              "    </tr>\n",
              "    <tr>\n",
              "      <th>GASOLINA</th>\n",
              "      <td>CO</td>\n",
              "      <td>DF</td>\n",
              "      <td>BRASILIA</td>\n",
              "      <td>POSTO TOP TAGUATINGA COMERCIO DE COMBUSTIVEIS ...</td>\n",
              "      <td>2022-08-31</td>\n",
              "      <td>5.19</td>\n",
              "      <td>IPIRANGA</td>\n",
              "    </tr>\n",
              "    <tr>\n",
              "      <th>GASOLINA</th>\n",
              "      <td>SE</td>\n",
              "      <td>MG</td>\n",
              "      <td>JANAUBA</td>\n",
              "      <td>AUTO POSTO COMBUSTIVEIS VERAS SANTANA LTDA</td>\n",
              "      <td>2022-08-31</td>\n",
              "      <td>5.27</td>\n",
              "      <td>BRANCA</td>\n",
              "    </tr>\n",
              "    <tr>\n",
              "      <th>ETANOL</th>\n",
              "      <td>SE</td>\n",
              "      <td>MG</td>\n",
              "      <td>JANAUBA</td>\n",
              "      <td>AUTO POSTO COMBUSTIVEIS VERAS SANTANA LTDA</td>\n",
              "      <td>2022-08-31</td>\n",
              "      <td>3.67</td>\n",
              "      <td>BRANCA</td>\n",
              "    </tr>\n",
              "  </tbody>\n",
              "</table>\n",
              "<p>116348 rows × 7 columns</p>\n",
              "</div>\n",
              "      <button class=\"colab-df-convert\" onclick=\"convertToInteractive('df-7e911509-63d7-4f71-b9e9-0a78711a71fd')\"\n",
              "              title=\"Convert this dataframe to an interactive table.\"\n",
              "              style=\"display:none;\">\n",
              "        \n",
              "  <svg xmlns=\"http://www.w3.org/2000/svg\" height=\"24px\"viewBox=\"0 0 24 24\"\n",
              "       width=\"24px\">\n",
              "    <path d=\"M0 0h24v24H0V0z\" fill=\"none\"/>\n",
              "    <path d=\"M18.56 5.44l.94 2.06.94-2.06 2.06-.94-2.06-.94-.94-2.06-.94 2.06-2.06.94zm-11 1L8.5 8.5l.94-2.06 2.06-.94-2.06-.94L8.5 2.5l-.94 2.06-2.06.94zm10 10l.94 2.06.94-2.06 2.06-.94-2.06-.94-.94-2.06-.94 2.06-2.06.94z\"/><path d=\"M17.41 7.96l-1.37-1.37c-.4-.4-.92-.59-1.43-.59-.52 0-1.04.2-1.43.59L10.3 9.45l-7.72 7.72c-.78.78-.78 2.05 0 2.83L4 21.41c.39.39.9.59 1.41.59.51 0 1.02-.2 1.41-.59l7.78-7.78 2.81-2.81c.8-.78.8-2.07 0-2.86zM5.41 20L4 18.59l7.72-7.72 1.47 1.35L5.41 20z\"/>\n",
              "  </svg>\n",
              "      </button>\n",
              "      \n",
              "  <style>\n",
              "    .colab-df-container {\n",
              "      display:flex;\n",
              "      flex-wrap:wrap;\n",
              "      gap: 12px;\n",
              "    }\n",
              "\n",
              "    .colab-df-convert {\n",
              "      background-color: #E8F0FE;\n",
              "      border: none;\n",
              "      border-radius: 50%;\n",
              "      cursor: pointer;\n",
              "      display: none;\n",
              "      fill: #1967D2;\n",
              "      height: 32px;\n",
              "      padding: 0 0 0 0;\n",
              "      width: 32px;\n",
              "    }\n",
              "\n",
              "    .colab-df-convert:hover {\n",
              "      background-color: #E2EBFA;\n",
              "      box-shadow: 0px 1px 2px rgba(60, 64, 67, 0.3), 0px 1px 3px 1px rgba(60, 64, 67, 0.15);\n",
              "      fill: #174EA6;\n",
              "    }\n",
              "\n",
              "    [theme=dark] .colab-df-convert {\n",
              "      background-color: #3B4455;\n",
              "      fill: #D2E3FC;\n",
              "    }\n",
              "\n",
              "    [theme=dark] .colab-df-convert:hover {\n",
              "      background-color: #434B5C;\n",
              "      box-shadow: 0px 1px 3px 1px rgba(0, 0, 0, 0.15);\n",
              "      filter: drop-shadow(0px 1px 2px rgba(0, 0, 0, 0.3));\n",
              "      fill: #FFFFFF;\n",
              "    }\n",
              "  </style>\n",
              "\n",
              "      <script>\n",
              "        const buttonEl =\n",
              "          document.querySelector('#df-7e911509-63d7-4f71-b9e9-0a78711a71fd button.colab-df-convert');\n",
              "        buttonEl.style.display =\n",
              "          google.colab.kernel.accessAllowed ? 'block' : 'none';\n",
              "\n",
              "        async function convertToInteractive(key) {\n",
              "          const element = document.querySelector('#df-7e911509-63d7-4f71-b9e9-0a78711a71fd');\n",
              "          const dataTable =\n",
              "            await google.colab.kernel.invokeFunction('convertToInteractive',\n",
              "                                                     [key], {});\n",
              "          if (!dataTable) return;\n",
              "\n",
              "          const docLinkHtml = 'Like what you see? Visit the ' +\n",
              "            '<a target=\"_blank\" href=https://colab.research.google.com/notebooks/data_table.ipynb>data table notebook</a>'\n",
              "            + ' to learn more about interactive tables.';\n",
              "          element.innerHTML = '';\n",
              "          dataTable['output_type'] = 'display_data';\n",
              "          await google.colab.output.renderOutput(dataTable, element);\n",
              "          const docLink = document.createElement('div');\n",
              "          docLink.innerHTML = docLinkHtml;\n",
              "          element.appendChild(docLink);\n",
              "        }\n",
              "      </script>\n",
              "    </div>\n",
              "  </div>\n",
              "  "
            ]
          },
          "metadata": {},
          "execution_count": 14
        }
      ]
    },
    {
      "cell_type": "markdown",
      "source": [
        "### **4.3 - Identificando outliers - Histogramas**"
      ],
      "metadata": {
        "id": "eE0ZJpPrKvUt"
      }
    },
    {
      "cell_type": "code",
      "source": [
        "# Visualizando a distribuição da variável 'Valor de Venda'\n",
        "combustiveis.hist(bins=15, figsize=(20,10));"
      ],
      "metadata": {
        "colab": {
          "base_uri": "https://localhost:8080/",
          "height": 493
        },
        "id": "rzCNFOagLCWJ",
        "outputId": "96f27408-c3ba-430e-cfa8-df2e8b690525"
      },
      "execution_count": null,
      "outputs": [
        {
          "output_type": "display_data",
          "data": {
            "text/plain": [
              "<Figure size 1440x720 with 2 Axes>"
            ],
            "image/png": "[encoded data removed]"
          },
          "metadata": {
            "needs_background": "light"
          }
        }
      ]
    },
    {
      "cell_type": "markdown",
      "source": [
        "### **4.4 - Identificando outliers - estatísticas descritivas**"
      ],
      "metadata": {
        "id": "kzF6a381LamI"
      }
    },
    {
      "cell_type": "code",
      "source": [
        "#Principais estatísticas usando a função describe:\n",
        "combustiveis.describe()"
      ],
      "metadata": {
        "colab": {
          "base_uri": "https://localhost:8080/",
          "height": 300
        },
        "id": "NWwoZqJ1LrsD",
        "outputId": "b85ab3b8-7fcd-4b83-e6c9-8f2437b02e73"
      },
      "execution_count": null,
      "outputs": [
        {
          "output_type": "execute_result",
          "data": {
            "text/plain": [
              "       Valor de Venda\n",
              "count   127176.000000\n",
              "mean         5.355503\n",
              "std          0.860449\n",
              "min          2.890000\n",
              "25%          4.880000\n",
              "50%          5.490000\n",
              "75%          5.890000\n",
              "max          9.270000"
            ],
            "text/html": [
              "\n",
              "  <div id=\"df-72aa1b61-cd4a-4abb-bbb1-cfb2b70b2b34\">\n",
              "    <div class=\"colab-df-container\">\n",
              "      <div>\n",
              "<style scoped>\n",
              "    .dataframe tbody tr th:only-of-type {\n",
              "        vertical-align: middle;\n",
              "    }\n",
              "\n",
              "    .dataframe tbody tr th {\n",
              "        vertical-align: top;\n",
              "    }\n",
              "\n",
              "    .dataframe thead th {\n",
              "        text-align: right;\n",
              "    }\n",
              "</style>\n",
              "<table border=\"1\" class=\"dataframe\">\n",
              "  <thead>\n",
              "    <tr style=\"text-align: right;\">\n",
              "      <th></th>\n",
              "      <th>Valor de Venda</th>\n",
              "    </tr>\n",
              "  </thead>\n",
              "  <tbody>\n",
              "    <tr>\n",
              "      <th>count</th>\n",
              "      <td>127176.000000</td>\n",
              "    </tr>\n",
              "    <tr>\n",
              "      <th>mean</th>\n",
              "      <td>5.355503</td>\n",
              "    </tr>\n",
              "    <tr>\n",
              "      <th>std</th>\n",
              "      <td>0.860449</td>\n",
              "    </tr>\n",
              "    <tr>\n",
              "      <th>min</th>\n",
              "      <td>2.890000</td>\n",
              "    </tr>\n",
              "    <tr>\n",
              "      <th>25%</th>\n",
              "      <td>4.880000</td>\n",
              "    </tr>\n",
              "    <tr>\n",
              "      <th>50%</th>\n",
              "      <td>5.490000</td>\n",
              "    </tr>\n",
              "    <tr>\n",
              "      <th>75%</th>\n",
              "      <td>5.890000</td>\n",
              "    </tr>\n",
              "    <tr>\n",
              "      <th>max</th>\n",
              "      <td>9.270000</td>\n",
              "    </tr>\n",
              "  </tbody>\n",
              "</table>\n",
              "</div>\n",
              "      <button class=\"colab-df-convert\" onclick=\"convertToInteractive('df-72aa1b61-cd4a-4abb-bbb1-cfb2b70b2b34')\"\n",
              "              title=\"Convert this dataframe to an interactive table.\"\n",
              "              style=\"display:none;\">\n",
              "        \n",
              "  <svg xmlns=\"http://www.w3.org/2000/svg\" height=\"24px\"viewBox=\"0 0 24 24\"\n",
              "       width=\"24px\">\n",
              "    <path d=\"M0 0h24v24H0V0z\" fill=\"none\"/>\n",
              "    <path d=\"M18.56 5.44l.94 2.06.94-2.06 2.06-.94-2.06-.94-.94-2.06-.94 2.06-2.06.94zm-11 1L8.5 8.5l.94-2.06 2.06-.94-2.06-.94L8.5 2.5l-.94 2.06-2.06.94zm10 10l.94 2.06.94-2.06 2.06-.94-2.06-.94-.94-2.06-.94 2.06-2.06.94z\"/><path d=\"M17.41 7.96l-1.37-1.37c-.4-.4-.92-.59-1.43-.59-.52 0-1.04.2-1.43.59L10.3 9.45l-7.72 7.72c-.78.78-.78 2.05 0 2.83L4 21.41c.39.39.9.59 1.41.59.51 0 1.02-.2 1.41-.59l7.78-7.78 2.81-2.81c.8-.78.8-2.07 0-2.86zM5.41 20L4 18.59l7.72-7.72 1.47 1.35L5.41 20z\"/>\n",
              "  </svg>\n",
              "      </button>\n",
              "      \n",
              "  <style>\n",
              "    .colab-df-container {\n",
              "      display:flex;\n",
              "      flex-wrap:wrap;\n",
              "      gap: 12px;\n",
              "    }\n",
              "\n",
              "    .colab-df-convert {\n",
              "      background-color: #E8F0FE;\n",
              "      border: none;\n",
              "      border-radius: 50%;\n",
              "      cursor: pointer;\n",
              "      display: none;\n",
              "      fill: #1967D2;\n",
              "      height: 32px;\n",
              "      padding: 0 0 0 0;\n",
              "      width: 32px;\n",
              "    }\n",
              "\n",
              "    .colab-df-convert:hover {\n",
              "      background-color: #E2EBFA;\n",
              "      box-shadow: 0px 1px 2px rgba(60, 64, 67, 0.3), 0px 1px 3px 1px rgba(60, 64, 67, 0.15);\n",
              "      fill: #174EA6;\n",
              "    }\n",
              "\n",
              "    [theme=dark] .colab-df-convert {\n",
              "      background-color: #3B4455;\n",
              "      fill: #D2E3FC;\n",
              "    }\n",
              "\n",
              "    [theme=dark] .colab-df-convert:hover {\n",
              "      background-color: #434B5C;\n",
              "      box-shadow: 0px 1px 3px 1px rgba(0, 0, 0, 0.15);\n",
              "      filter: drop-shadow(0px 1px 2px rgba(0, 0, 0, 0.3));\n",
              "      fill: #FFFFFF;\n",
              "    }\n",
              "  </style>\n",
              "\n",
              "      <script>\n",
              "        const buttonEl =\n",
              "          document.querySelector('#df-72aa1b61-cd4a-4abb-bbb1-cfb2b70b2b34 button.colab-df-convert');\n",
              "        buttonEl.style.display =\n",
              "          google.colab.kernel.accessAllowed ? 'block' : 'none';\n",
              "\n",
              "        async function convertToInteractive(key) {\n",
              "          const element = document.querySelector('#df-72aa1b61-cd4a-4abb-bbb1-cfb2b70b2b34');\n",
              "          const dataTable =\n",
              "            await google.colab.kernel.invokeFunction('convertToInteractive',\n",
              "                                                     [key], {});\n",
              "          if (!dataTable) return;\n",
              "\n",
              "          const docLinkHtml = 'Like what you see? Visit the ' +\n",
              "            '<a target=\"_blank\" href=https://colab.research.google.com/notebooks/data_table.ipynb>data table notebook</a>'\n",
              "            + ' to learn more about interactive tables.';\n",
              "          element.innerHTML = '';\n",
              "          dataTable['output_type'] = 'display_data';\n",
              "          await google.colab.output.renderOutput(dataTable, element);\n",
              "          const docLink = document.createElement('div');\n",
              "          docLink.innerHTML = docLinkHtml;\n",
              "          element.appendChild(docLink);\n",
              "        }\n",
              "      </script>\n",
              "    </div>\n",
              "  </div>\n",
              "  "
            ]
          },
          "metadata": {},
          "execution_count": 16
        }
      ]
    },
    {
      "cell_type": "markdown",
      "source": [
        "### **4.5 - Identificando outliers - Boxplots**"
      ],
      "metadata": {
        "id": "7dpKmFnKL0jn"
      }
    },
    {
      "cell_type": "code",
      "source": [
        "gasolina_comum = combustiveis.loc['GASOLINA']\n",
        "gasolina_aditivada = combustiveis.loc['GASOLINA ADITIVADA']\n",
        "etanol = combustiveis.loc['ETANOL']\n",
        "gasolina_comum"
      ],
      "metadata": {
        "id": "AHt-bcl4CmSW",
        "colab": {
          "base_uri": "https://localhost:8080/",
          "height": 603
        },
        "outputId": "37cf73f0-2d89-4d04-cb0f-711f61f54378"
      },
      "execution_count": null,
      "outputs": [
        {
          "output_type": "execute_result",
          "data": {
            "text/plain": [
              "         Regiao - Sigla Estado - Sigla             Municipio  \\\n",
              "Produto                                                        \n",
              "GASOLINA             SE             ES              COLATINA   \n",
              "GASOLINA             SE             ES              COLATINA   \n",
              "GASOLINA             CO             GO               GOIANIA   \n",
              "GASOLINA             CO             GO               GOIANIA   \n",
              "GASOLINA             NE             PI              TERESINA   \n",
              "...                 ...            ...                   ...   \n",
              "GASOLINA             NE             BA  VITORIA DA CONQUISTA   \n",
              "GASOLINA             NE             BA                 IRECE   \n",
              "GASOLINA             NE             PE                RECIFE   \n",
              "GASOLINA             CO             DF              BRASILIA   \n",
              "GASOLINA             SE             MG               JANAUBA   \n",
              "\n",
              "                                                    Revenda Data da Coleta  \\\n",
              "Produto                                                                      \n",
              "GASOLINA  SAO FRANCISCO DE ASSIS COMERCIO DE COMBUSTIVEI...     2022-07-01   \n",
              "GASOLINA                                 POSTO MOTOCAP LTDA     2022-07-01   \n",
              "GASOLINA                       JUSTINIANO & JUSTINIANO LTDA     2022-07-01   \n",
              "GASOLINA                            VIENA AUTO POSTO EIRELI     2022-07-01   \n",
              "GASOLINA                                T. M. VALENÇA LTDA.     2022-07-01   \n",
              "...                                                     ...            ...   \n",
              "GASOLINA         VITORIA - PETRO DERIVADOS DE PETROLEO LTDA     2022-08-31   \n",
              "GASOLINA                           AUTO POSTO NORDESTE LTDA     2022-08-31   \n",
              "GASOLINA                           BRAZ COMBUSTIVEIS EIRELI     2022-08-31   \n",
              "GASOLINA  POSTO TOP TAGUATINGA COMERCIO DE COMBUSTIVEIS ...     2022-08-31   \n",
              "GASOLINA         AUTO POSTO COMBUSTIVEIS VERAS SANTANA LTDA     2022-08-31   \n",
              "\n",
              "          Valor de Venda       Bandeira  \n",
              "Produto                                  \n",
              "GASOLINA            7.38  VIBRA ENERGIA  \n",
              "GASOLINA            7.39  VIBRA ENERGIA  \n",
              "GASOLINA            5.99       IPIRANGA  \n",
              "GASOLINA            6.69         BRANCA  \n",
              "GASOLINA            7.77         BRANCA  \n",
              "...                  ...            ...  \n",
              "GASOLINA            5.79  VIBRA ENERGIA  \n",
              "GASOLINA            5.38         BRANCA  \n",
              "GASOLINA            4.95         BRANCA  \n",
              "GASOLINA            5.19       IPIRANGA  \n",
              "GASOLINA            5.27         BRANCA  \n",
              "\n",
              "[48341 rows x 7 columns]"
            ],
            "text/html": [
              "\n",
              "  <div id=\"df-5dee04ec-f35d-41d2-aabd-cdf17ab5ad6d\">\n",
              "    <div class=\"colab-df-container\">\n",
              "      <div>\n",
              "<style scoped>\n",
              "    .dataframe tbody tr th:only-of-type {\n",
              "        vertical-align: middle;\n",
              "    }\n",
              "\n",
              "    .dataframe tbody tr th {\n",
              "        vertical-align: top;\n",
              "    }\n",
              "\n",
              "    .dataframe thead th {\n",
              "        text-align: right;\n",
              "    }\n",
              "</style>\n",
              "<table border=\"1\" class=\"dataframe\">\n",
              "  <thead>\n",
              "    <tr style=\"text-align: right;\">\n",
              "      <th></th>\n",
              "      <th>Regiao - Sigla</th>\n",
              "      <th>Estado - Sigla</th>\n",
              "      <th>Municipio</th>\n",
              "      <th>Revenda</th>\n",
              "      <th>Data da Coleta</th>\n",
              "      <th>Valor de Venda</th>\n",
              "      <th>Bandeira</th>\n",
              "    </tr>\n",
              "    <tr>\n",
              "      <th>Produto</th>\n",
              "      <th></th>\n",
              "      <th></th>\n",
              "      <th></th>\n",
              "      <th></th>\n",
              "      <th></th>\n",
              "      <th></th>\n",
              "      <th></th>\n",
              "    </tr>\n",
              "  </thead>\n",
              "  <tbody>\n",
              "    <tr>\n",
              "      <th>GASOLINA</th>\n",
              "      <td>SE</td>\n",
              "      <td>ES</td>\n",
              "      <td>COLATINA</td>\n",
              "      <td>SAO FRANCISCO DE ASSIS COMERCIO DE COMBUSTIVEI...</td>\n",
              "      <td>2022-07-01</td>\n",
              "      <td>7.38</td>\n",
              "      <td>VIBRA ENERGIA</td>\n",
              "    </tr>\n",
              "    <tr>\n",
              "      <th>GASOLINA</th>\n",
              "      <td>SE</td>\n",
              "      <td>ES</td>\n",
              "      <td>COLATINA</td>\n",
              "      <td>POSTO MOTOCAP LTDA</td>\n",
              "      <td>2022-07-01</td>\n",
              "      <td>7.39</td>\n",
              "      <td>VIBRA ENERGIA</td>\n",
              "    </tr>\n",
              "    <tr>\n",
              "      <th>GASOLINA</th>\n",
              "      <td>CO</td>\n",
              "      <td>GO</td>\n",
              "      <td>GOIANIA</td>\n",
              "      <td>JUSTINIANO &amp; JUSTINIANO LTDA</td>\n",
              "      <td>2022-07-01</td>\n",
              "      <td>5.99</td>\n",
              "      <td>IPIRANGA</td>\n",
              "    </tr>\n",
              "    <tr>\n",
              "      <th>GASOLINA</th>\n",
              "      <td>CO</td>\n",
              "      <td>GO</td>\n",
              "      <td>GOIANIA</td>\n",
              "      <td>VIENA AUTO POSTO EIRELI</td>\n",
              "      <td>2022-07-01</td>\n",
              "      <td>6.69</td>\n",
              "      <td>BRANCA</td>\n",
              "    </tr>\n",
              "    <tr>\n",
              "      <th>GASOLINA</th>\n",
              "      <td>NE</td>\n",
              "      <td>PI</td>\n",
              "      <td>TERESINA</td>\n",
              "      <td>T. M. VALENÇA LTDA.</td>\n",
              "      <td>2022-07-01</td>\n",
              "      <td>7.77</td>\n",
              "      <td>BRANCA</td>\n",
              "    </tr>\n",
              "    <tr>\n",
              "      <th>...</th>\n",
              "      <td>...</td>\n",
              "      <td>...</td>\n",
              "      <td>...</td>\n",
              "      <td>...</td>\n",
              "      <td>...</td>\n",
              "      <td>...</td>\n",
              "      <td>...</td>\n",
              "    </tr>\n",
              "    <tr>\n",
              "      <th>GASOLINA</th>\n",
              "      <td>NE</td>\n",
              "      <td>BA</td>\n",
              "      <td>VITORIA DA CONQUISTA</td>\n",
              "      <td>VITORIA - PETRO DERIVADOS DE PETROLEO LTDA</td>\n",
              "      <td>2022-08-31</td>\n",
              "      <td>5.79</td>\n",
              "      <td>VIBRA ENERGIA</td>\n",
              "    </tr>\n",
              "    <tr>\n",
              "      <th>GASOLINA</th>\n",
              "      <td>NE</td>\n",
              "      <td>BA</td>\n",
              "      <td>IRECE</td>\n",
              "      <td>AUTO POSTO NORDESTE LTDA</td>\n",
              "      <td>2022-08-31</td>\n",
              "      <td>5.38</td>\n",
              "      <td>BRANCA</td>\n",
              "    </tr>\n",
              "    <tr>\n",
              "      <th>GASOLINA</th>\n",
              "      <td>NE</td>\n",
              "      <td>PE</td>\n",
              "      <td>RECIFE</td>\n",
              "      <td>BRAZ COMBUSTIVEIS EIRELI</td>\n",
              "      <td>2022-08-31</td>\n",
              "      <td>4.95</td>\n",
              "      <td>BRANCA</td>\n",
              "    </tr>\n",
              "    <tr>\n",
              "      <th>GASOLINA</th>\n",
              "      <td>CO</td>\n",
              "      <td>DF</td>\n",
              "      <td>BRASILIA</td>\n",
              "      <td>POSTO TOP TAGUATINGA COMERCIO DE COMBUSTIVEIS ...</td>\n",
              "      <td>2022-08-31</td>\n",
              "      <td>5.19</td>\n",
              "      <td>IPIRANGA</td>\n",
              "    </tr>\n",
              "    <tr>\n",
              "      <th>GASOLINA</th>\n",
              "      <td>SE</td>\n",
              "      <td>MG</td>\n",
              "      <td>JANAUBA</td>\n",
              "      <td>AUTO POSTO COMBUSTIVEIS VERAS SANTANA LTDA</td>\n",
              "      <td>2022-08-31</td>\n",
              "      <td>5.27</td>\n",
              "      <td>BRANCA</td>\n",
              "    </tr>\n",
              "  </tbody>\n",
              "</table>\n",
              "<p>48341 rows × 7 columns</p>\n",
              "</div>\n",
              "      <button class=\"colab-df-convert\" onclick=\"convertToInteractive('df-5dee04ec-f35d-41d2-aabd-cdf17ab5ad6d')\"\n",
              "              title=\"Convert this dataframe to an interactive table.\"\n",
              "              style=\"display:none;\">\n",
              "        \n",
              "  <svg xmlns=\"http://www.w3.org/2000/svg\" height=\"24px\"viewBox=\"0 0 24 24\"\n",
              "       width=\"24px\">\n",
              "    <path d=\"M0 0h24v24H0V0z\" fill=\"none\"/>\n",
              "    <path d=\"M18.56 5.44l.94 2.06.94-2.06 2.06-.94-2.06-.94-.94-2.06-.94 2.06-2.06.94zm-11 1L8.5 8.5l.94-2.06 2.06-.94-2.06-.94L8.5 2.5l-.94 2.06-2.06.94zm10 10l.94 2.06.94-2.06 2.06-.94-2.06-.94-.94-2.06-.94 2.06-2.06.94z\"/><path d=\"M17.41 7.96l-1.37-1.37c-.4-.4-.92-.59-1.43-.59-.52 0-1.04.2-1.43.59L10.3 9.45l-7.72 7.72c-.78.78-.78 2.05 0 2.83L4 21.41c.39.39.9.59 1.41.59.51 0 1.02-.2 1.41-.59l7.78-7.78 2.81-2.81c.8-.78.8-2.07 0-2.86zM5.41 20L4 18.59l7.72-7.72 1.47 1.35L5.41 20z\"/>\n",
              "  </svg>\n",
              "      </button>\n",
              "      \n",
              "  <style>\n",
              "    .colab-df-container {\n",
              "      display:flex;\n",
              "      flex-wrap:wrap;\n",
              "      gap: 12px;\n",
              "    }\n",
              "\n",
              "    .colab-df-convert {\n",
              "      background-color: #E8F0FE;\n",
              "      border: none;\n",
              "      border-radius: 50%;\n",
              "      cursor: pointer;\n",
              "      display: none;\n",
              "      fill: #1967D2;\n",
              "      height: 32px;\n",
              "      padding: 0 0 0 0;\n",
              "      width: 32px;\n",
              "    }\n",
              "\n",
              "    .colab-df-convert:hover {\n",
              "      background-color: #E2EBFA;\n",
              "      box-shadow: 0px 1px 2px rgba(60, 64, 67, 0.3), 0px 1px 3px 1px rgba(60, 64, 67, 0.15);\n",
              "      fill: #174EA6;\n",
              "    }\n",
              "\n",
              "    [theme=dark] .colab-df-convert {\n",
              "      background-color: #3B4455;\n",
              "      fill: #D2E3FC;\n",
              "    }\n",
              "\n",
              "    [theme=dark] .colab-df-convert:hover {\n",
              "      background-color: #434B5C;\n",
              "      box-shadow: 0px 1px 3px 1px rgba(0, 0, 0, 0.15);\n",
              "      filter: drop-shadow(0px 1px 2px rgba(0, 0, 0, 0.3));\n",
              "      fill: #FFFFFF;\n",
              "    }\n",
              "  </style>\n",
              "\n",
              "      <script>\n",
              "        const buttonEl =\n",
              "          document.querySelector('#df-5dee04ec-f35d-41d2-aabd-cdf17ab5ad6d button.colab-df-convert');\n",
              "        buttonEl.style.display =\n",
              "          google.colab.kernel.accessAllowed ? 'block' : 'none';\n",
              "\n",
              "        async function convertToInteractive(key) {\n",
              "          const element = document.querySelector('#df-5dee04ec-f35d-41d2-aabd-cdf17ab5ad6d');\n",
              "          const dataTable =\n",
              "            await google.colab.kernel.invokeFunction('convertToInteractive',\n",
              "                                                     [key], {});\n",
              "          if (!dataTable) return;\n",
              "\n",
              "          const docLinkHtml = 'Like what you see? Visit the ' +\n",
              "            '<a target=\"_blank\" href=https://colab.research.google.com/notebooks/data_table.ipynb>data table notebook</a>'\n",
              "            + ' to learn more about interactive tables.';\n",
              "          element.innerHTML = '';\n",
              "          dataTable['output_type'] = 'display_data';\n",
              "          await google.colab.output.renderOutput(dataTable, element);\n",
              "          const docLink = document.createElement('div');\n",
              "          docLink.innerHTML = docLinkHtml;\n",
              "          element.appendChild(docLink);\n",
              "        }\n",
              "      </script>\n",
              "    </div>\n",
              "  </div>\n",
              "  "
            ]
          },
          "metadata": {},
          "execution_count": 57
        }
      ]
    },
    {
      "cell_type": "code",
      "source": [
        "# Considerando todos os combustíveis: gasolina comum, gasolina aditivada e etanol\n",
        "bp1 = pd.DataFrame(combustiveis, columns=[\"Valor de Venda\"])\n",
        "bp1.plot.box(vert=False);"
      ],
      "metadata": {
        "colab": {
          "base_uri": "https://localhost:8080/",
          "height": 265
        },
        "id": "xWBMPhzJL8_o",
        "outputId": "282611f4-5329-4e47-8c6b-4c0e902163da"
      },
      "execution_count": null,
      "outputs": [
        {
          "output_type": "display_data",
          "data": {
            "text/plain": [
              "<Figure size 432x288 with 1 Axes>"
            ],
            "image/png": "[encoded data removed]"
          },
          "metadata": {
            "needs_background": "light"
          }
        }
      ]
    },
    {
      "cell_type": "code",
      "source": [
        "# Considerando apenas os preços da gasolina comum:\n",
        "\n",
        "bp2 = pd.DataFrame(gasolina_comum, columns=[\"Valor de Venda\"])\n",
        "bp2.plot.box(vert=False);"
      ],
      "metadata": {
        "colab": {
          "base_uri": "https://localhost:8080/",
          "height": 265
        },
        "id": "np_4IBwaMieW",
        "outputId": "796f2665-b71f-493c-df35-68fd0581f04e"
      },
      "execution_count": null,
      "outputs": [
        {
          "output_type": "display_data",
          "data": {
            "text/plain": [
              "<Figure size 432x288 with 1 Axes>"
            ],
            "image/png": "[encoded data removed]"
          },
          "metadata": {
            "needs_background": "light"
          }
        }
      ]
    },
    {
      "cell_type": "code",
      "source": [
        "# Considerando apenas os preços da gasolina aditivada:\n",
        "gasolina_aditivada = combustiveis.loc['GASOLINA ADITIVADA']\n",
        "bp3 = pd.DataFrame(gasolina_aditivada, columns=[\"Valor de Venda\"])\n",
        "bp3.plot.box(vert=False);"
      ],
      "metadata": {
        "id": "EIPOVQbsNDxK",
        "colab": {
          "base_uri": "https://localhost:8080/",
          "height": 265
        },
        "outputId": "08f14724-df4f-46a7-8188-30bdfb4348bd"
      },
      "execution_count": null,
      "outputs": [
        {
          "output_type": "display_data",
          "data": {
            "text/plain": [
              "<Figure size 432x288 with 1 Axes>"
            ],
            "image/png": "[encoded data removed]"
          },
          "metadata": {
            "needs_background": "light"
          }
        }
      ]
    },
    {
      "cell_type": "code",
      "source": [
        "# Considerando apenas os preços do etanol:\n",
        "etanol = combustiveis.loc['ETANOL']\n",
        "bp4 = pd.DataFrame(etanol, columns=[\"Valor de Venda\"])\n",
        "bp4.plot.box(vert=False);\n"
      ],
      "metadata": {
        "id": "UfCL-V-qNXs-",
        "colab": {
          "base_uri": "https://localhost:8080/",
          "height": 265
        },
        "outputId": "ecb69191-5ab1-4394-9c4a-f1e53d2d3745"
      },
      "execution_count": null,
      "outputs": [
        {
          "output_type": "display_data",
          "data": {
            "text/plain": [
              "<Figure size 432x288 with 1 Axes>"
            ],
            "image/png": "[encoded data removed]"
          },
          "metadata": {
            "needs_background": "light"
          }
        }
      ]
    },
    {
      "cell_type": "markdown",
      "source": [
        "### **4.6 - Conclusões iniciais sobre outliers no dataset**\n",
        "\n",
        "\n",
        "\n",
        "* Retirar os outliers e calcular novamente dados como média, desvio-padrão, etc para entender o seu impacto.\n",
        "\n",
        "\n",
        "\n",
        "\n",
        "\n"
      ],
      "metadata": {
        "id": "bqGQzrMjNogP"
      }
    },
    {
      "cell_type": "markdown",
      "source": [
        "### **4.7 - Retirando os outliers**"
      ],
      "metadata": {
        "id": "VfrO8l6hOlvf"
      }
    },
    {
      "cell_type": "markdown",
      "source": [
        "### **4.8 - Calculando novamente as medidas descritivas**"
      ],
      "metadata": {
        "id": "B9p9XjmrOqiq"
      }
    },
    {
      "cell_type": "markdown",
      "source": [
        "### **4.9 - Conclusões finais sobre outliers no dataset**"
      ],
      "metadata": {
        "id": "oWkBNMYqOyVL"
      }
    },
    {
      "cell_type": "markdown",
      "source": [
        "# **5. Análise Exploratória**"
      ],
      "metadata": {
        "id": "6bOlEkhJOPc0"
      }
    },
    {
      "cell_type": "markdown",
      "source": [
        "**Pergunta 1: Como se comportaram o preço dos combustíveis durante os dois meses citados? Os valores do etanol e da gasolina tiveram um aumento ou diminuição?**"
      ],
      "metadata": {
        "id": "AE9BopGcQ8Hv"
      }
    },
    {
      "cell_type": "code",
      "source": [
        "#Brasil - GASOLINA COMUM\n",
        "gasolina_comum.groupby('Data da Coleta')[['Valor de Venda']].mean().sort_values(['Data da Coleta', 'Valor de Venda'], ascending=True)\n",
        "x=list(gasolina_comum.iloc[:,4])\n",
        "y=list(gasolina_comum.iloc[:,5])\n",
        "plt.bar(x,y,color='g')\n",
        "plt.xticks(rotation=45)"
      ],
      "metadata": {
        "id": "mqf7RbuaVONH",
        "colab": {
          "base_uri": "https://localhost:8080/",
          "height": 338
        },
        "outputId": "d5407409-490f-4de6-8797-434d367561e7"
      },
      "execution_count": null,
      "outputs": [
        {
          "output_type": "execute_result",
          "data": {
            "text/plain": [
              "(array([738337., 738344., 738351., 738358., 738368., 738375., 738382.,\n",
              "        738389., 738399.]), <a list of 9 Text major ticklabel objects>)"
            ]
          },
          "metadata": {},
          "execution_count": 59
        },
        {
          "output_type": "display_data",
          "data": {
            "text/plain": [
              "<Figure size 432x288 with 1 Axes>"
            ],
            "image/png": "[encoded data removed]"
          },
          "metadata": {
            "needs_background": "light"
          }
        }
      ]
    },
    {
      "cell_type": "code",
      "source": [
        "#Brasil - GASOLINA ADITIVADA\n",
        "gasolina_aditivada.groupby('Data da Coleta')[['Valor de Venda']].mean().sort_values(['Data da Coleta', 'Valor de Venda'], ascending=True)\n"
      ],
      "metadata": {
        "id": "LK_mK-1eVkky",
        "colab": {
          "base_uri": "https://localhost:8080/",
          "height": 1000
        },
        "outputId": "b70ae555-9fb9-45aa-8001-2dc5343776ec"
      },
      "execution_count": null,
      "outputs": [
        {
          "output_type": "execute_result",
          "data": {
            "text/plain": [
              "                Valor de Venda\n",
              "Data da Coleta                \n",
              "2022-07-01            7.248261\n",
              "2022-07-04            6.786824\n",
              "2022-07-05            6.795097\n",
              "2022-07-06            6.573684\n",
              "2022-07-07            6.408225\n",
              "2022-07-08            6.290370\n",
              "2022-07-11            6.298553\n",
              "2022-07-12            6.315667\n",
              "2022-07-13            6.208035\n",
              "2022-07-14            6.188118\n",
              "2022-07-15            6.186585\n",
              "2022-07-18            6.118732\n",
              "2022-07-19            6.134556\n",
              "2022-07-20            6.081378\n",
              "2022-07-21            5.961833\n",
              "2022-07-22            5.886154\n",
              "2022-07-25            5.990940\n",
              "2022-07-26            5.931690\n",
              "2022-07-27            5.903921\n",
              "2022-07-28            5.868248\n",
              "2022-07-29            5.843500\n",
              "2022-08-01            5.843992\n",
              "2022-08-02            5.838499\n",
              "2022-08-03            5.808349\n",
              "2022-08-04            5.689228\n",
              "2022-08-05            5.869333\n",
              "2022-08-08            5.758299\n",
              "2022-08-09            5.740010\n",
              "2022-08-10            5.667548\n",
              "2022-08-11            5.620667\n",
              "2022-08-12            5.784444\n",
              "2022-08-15            5.656173\n",
              "2022-08-16            5.624541\n",
              "2022-08-17            5.556716\n",
              "2022-08-18            5.507187\n",
              "2022-08-19            5.431667\n",
              "2022-08-22            5.513581\n",
              "2022-08-23            5.452332\n",
              "2022-08-24            5.433567\n",
              "2022-08-25            5.388535\n",
              "2022-08-26            5.403590\n",
              "2022-08-29            5.389308\n",
              "2022-08-30            5.399597\n",
              "2022-08-31            5.354558"
            ],
            "text/html": [
              "\n",
              "  <div id=\"df-f7229c21-2e60-48bc-bcb1-2e83326ac45b\">\n",
              "    <div class=\"colab-df-container\">\n",
              "      <div>\n",
              "<style scoped>\n",
              "    .dataframe tbody tr th:only-of-type {\n",
              "        vertical-align: middle;\n",
              "    }\n",
              "\n",
              "    .dataframe tbody tr th {\n",
              "        vertical-align: top;\n",
              "    }\n",
              "\n",
              "    .dataframe thead th {\n",
              "        text-align: right;\n",
              "    }\n",
              "</style>\n",
              "<table border=\"1\" class=\"dataframe\">\n",
              "  <thead>\n",
              "    <tr style=\"text-align: right;\">\n",
              "      <th></th>\n",
              "      <th>Valor de Venda</th>\n",
              "    </tr>\n",
              "    <tr>\n",
              "      <th>Data da Coleta</th>\n",
              "      <th></th>\n",
              "    </tr>\n",
              "  </thead>\n",
              "  <tbody>\n",
              "    <tr>\n",
              "      <th>2022-07-01</th>\n",
              "      <td>7.248261</td>\n",
              "    </tr>\n",
              "    <tr>\n",
              "      <th>2022-07-04</th>\n",
              "      <td>6.786824</td>\n",
              "    </tr>\n",
              "    <tr>\n",
              "      <th>2022-07-05</th>\n",
              "      <td>6.795097</td>\n",
              "    </tr>\n",
              "    <tr>\n",
              "      <th>2022-07-06</th>\n",
              "      <td>6.573684</td>\n",
              "    </tr>\n",
              "    <tr>\n",
              "      <th>2022-07-07</th>\n",
              "      <td>6.408225</td>\n",
              "    </tr>\n",
              "    <tr>\n",
              "      <th>2022-07-08</th>\n",
              "      <td>6.290370</td>\n",
              "    </tr>\n",
              "    <tr>\n",
              "      <th>2022-07-11</th>\n",
              "      <td>6.298553</td>\n",
              "    </tr>\n",
              "    <tr>\n",
              "      <th>2022-07-12</th>\n",
              "      <td>6.315667</td>\n",
              "    </tr>\n",
              "    <tr>\n",
              "      <th>2022-07-13</th>\n",
              "      <td>6.208035</td>\n",
              "    </tr>\n",
              "    <tr>\n",
              "      <th>2022-07-14</th>\n",
              "      <td>6.188118</td>\n",
              "    </tr>\n",
              "    <tr>\n",
              "      <th>2022-07-15</th>\n",
              "      <td>6.186585</td>\n",
              "    </tr>\n",
              "    <tr>\n",
              "      <th>2022-07-18</th>\n",
              "      <td>6.118732</td>\n",
              "    </tr>\n",
              "    <tr>\n",
              "      <th>2022-07-19</th>\n",
              "      <td>6.134556</td>\n",
              "    </tr>\n",
              "    <tr>\n",
              "      <th>2022-07-20</th>\n",
              "      <td>6.081378</td>\n",
              "    </tr>\n",
              "    <tr>\n",
              "      <th>2022-07-21</th>\n",
              "      <td>5.961833</td>\n",
              "    </tr>\n",
              "    <tr>\n",
              "      <th>2022-07-22</th>\n",
              "      <td>5.886154</td>\n",
              "    </tr>\n",
              "    <tr>\n",
              "      <th>2022-07-25</th>\n",
              "      <td>5.990940</td>\n",
              "    </tr>\n",
              "    <tr>\n",
              "      <th>2022-07-26</th>\n",
              "      <td>5.931690</td>\n",
              "    </tr>\n",
              "    <tr>\n",
              "      <th>2022-07-27</th>\n",
              "      <td>5.903921</td>\n",
              "    </tr>\n",
              "    <tr>\n",
              "      <th>2022-07-28</th>\n",
              "      <td>5.868248</td>\n",
              "    </tr>\n",
              "    <tr>\n",
              "      <th>2022-07-29</th>\n",
              "      <td>5.843500</td>\n",
              "    </tr>\n",
              "    <tr>\n",
              "      <th>2022-08-01</th>\n",
              "      <td>5.843992</td>\n",
              "    </tr>\n",
              "    <tr>\n",
              "      <th>2022-08-02</th>\n",
              "      <td>5.838499</td>\n",
              "    </tr>\n",
              "    <tr>\n",
              "      <th>2022-08-03</th>\n",
              "      <td>5.808349</td>\n",
              "    </tr>\n",
              "    <tr>\n",
              "      <th>2022-08-04</th>\n",
              "      <td>5.689228</td>\n",
              "    </tr>\n",
              "    <tr>\n",
              "      <th>2022-08-05</th>\n",
              "      <td>5.869333</td>\n",
              "    </tr>\n",
              "    <tr>\n",
              "      <th>2022-08-08</th>\n",
              "      <td>5.758299</td>\n",
              "    </tr>\n",
              "    <tr>\n",
              "      <th>2022-08-09</th>\n",
              "      <td>5.740010</td>\n",
              "    </tr>\n",
              "    <tr>\n",
              "      <th>2022-08-10</th>\n",
              "      <td>5.667548</td>\n",
              "    </tr>\n",
              "    <tr>\n",
              "      <th>2022-08-11</th>\n",
              "      <td>5.620667</td>\n",
              "    </tr>\n",
              "    <tr>\n",
              "      <th>2022-08-12</th>\n",
              "      <td>5.784444</td>\n",
              "    </tr>\n",
              "    <tr>\n",
              "      <th>2022-08-15</th>\n",
              "      <td>5.656173</td>\n",
              "    </tr>\n",
              "    <tr>\n",
              "      <th>2022-08-16</th>\n",
              "      <td>5.624541</td>\n",
              "    </tr>\n",
              "    <tr>\n",
              "      <th>2022-08-17</th>\n",
              "      <td>5.556716</td>\n",
              "    </tr>\n",
              "    <tr>\n",
              "      <th>2022-08-18</th>\n",
              "      <td>5.507187</td>\n",
              "    </tr>\n",
              "    <tr>\n",
              "      <th>2022-08-19</th>\n",
              "      <td>5.431667</td>\n",
              "    </tr>\n",
              "    <tr>\n",
              "      <th>2022-08-22</th>\n",
              "      <td>5.513581</td>\n",
              "    </tr>\n",
              "    <tr>\n",
              "      <th>2022-08-23</th>\n",
              "      <td>5.452332</td>\n",
              "    </tr>\n",
              "    <tr>\n",
              "      <th>2022-08-24</th>\n",
              "      <td>5.433567</td>\n",
              "    </tr>\n",
              "    <tr>\n",
              "      <th>2022-08-25</th>\n",
              "      <td>5.388535</td>\n",
              "    </tr>\n",
              "    <tr>\n",
              "      <th>2022-08-26</th>\n",
              "      <td>5.403590</td>\n",
              "    </tr>\n",
              "    <tr>\n",
              "      <th>2022-08-29</th>\n",
              "      <td>5.389308</td>\n",
              "    </tr>\n",
              "    <tr>\n",
              "      <th>2022-08-30</th>\n",
              "      <td>5.399597</td>\n",
              "    </tr>\n",
              "    <tr>\n",
              "      <th>2022-08-31</th>\n",
              "      <td>5.354558</td>\n",
              "    </tr>\n",
              "  </tbody>\n",
              "</table>\n",
              "</div>\n",
              "      <button class=\"colab-df-convert\" onclick=\"convertToInteractive('df-f7229c21-2e60-48bc-bcb1-2e83326ac45b')\"\n",
              "              title=\"Convert this dataframe to an interactive table.\"\n",
              "              style=\"display:none;\">\n",
              "        \n",
              "  <svg xmlns=\"http://www.w3.org/2000/svg\" height=\"24px\"viewBox=\"0 0 24 24\"\n",
              "       width=\"24px\">\n",
              "    <path d=\"M0 0h24v24H0V0z\" fill=\"none\"/>\n",
              "    <path d=\"M18.56 5.44l.94 2.06.94-2.06 2.06-.94-2.06-.94-.94-2.06-.94 2.06-2.06.94zm-11 1L8.5 8.5l.94-2.06 2.06-.94-2.06-.94L8.5 2.5l-.94 2.06-2.06.94zm10 10l.94 2.06.94-2.06 2.06-.94-2.06-.94-.94-2.06-.94 2.06-2.06.94z\"/><path d=\"M17.41 7.96l-1.37-1.37c-.4-.4-.92-.59-1.43-.59-.52 0-1.04.2-1.43.59L10.3 9.45l-7.72 7.72c-.78.78-.78 2.05 0 2.83L4 21.41c.39.39.9.59 1.41.59.51 0 1.02-.2 1.41-.59l7.78-7.78 2.81-2.81c.8-.78.8-2.07 0-2.86zM5.41 20L4 18.59l7.72-7.72 1.47 1.35L5.41 20z\"/>\n",
              "  </svg>\n",
              "      </button>\n",
              "      \n",
              "  <style>\n",
              "    .colab-df-container {\n",
              "      display:flex;\n",
              "      flex-wrap:wrap;\n",
              "      gap: 12px;\n",
              "    }\n",
              "\n",
              "    .colab-df-convert {\n",
              "      background-color: #E8F0FE;\n",
              "      border: none;\n",
              "      border-radius: 50%;\n",
              "      cursor: pointer;\n",
              "      display: none;\n",
              "      fill: #1967D2;\n",
              "      height: 32px;\n",
              "      padding: 0 0 0 0;\n",
              "      width: 32px;\n",
              "    }\n",
              "\n",
              "    .colab-df-convert:hover {\n",
              "      background-color: #E2EBFA;\n",
              "      box-shadow: 0px 1px 2px rgba(60, 64, 67, 0.3), 0px 1px 3px 1px rgba(60, 64, 67, 0.15);\n",
              "      fill: #174EA6;\n",
              "    }\n",
              "\n",
              "    [theme=dark] .colab-df-convert {\n",
              "      background-color: #3B4455;\n",
              "      fill: #D2E3FC;\n",
              "    }\n",
              "\n",
              "    [theme=dark] .colab-df-convert:hover {\n",
              "      background-color: #434B5C;\n",
              "      box-shadow: 0px 1px 3px 1px rgba(0, 0, 0, 0.15);\n",
              "      filter: drop-shadow(0px 1px 2px rgba(0, 0, 0, 0.3));\n",
              "      fill: #FFFFFF;\n",
              "    }\n",
              "  </style>\n",
              "\n",
              "      <script>\n",
              "        const buttonEl =\n",
              "          document.querySelector('#df-f7229c21-2e60-48bc-bcb1-2e83326ac45b button.colab-df-convert');\n",
              "        buttonEl.style.display =\n",
              "          google.colab.kernel.accessAllowed ? 'block' : 'none';\n",
              "\n",
              "        async function convertToInteractive(key) {\n",
              "          const element = document.querySelector('#df-f7229c21-2e60-48bc-bcb1-2e83326ac45b');\n",
              "          const dataTable =\n",
              "            await google.colab.kernel.invokeFunction('convertToInteractive',\n",
              "                                                     [key], {});\n",
              "          if (!dataTable) return;\n",
              "\n",
              "          const docLinkHtml = 'Like what you see? Visit the ' +\n",
              "            '<a target=\"_blank\" href=https://colab.research.google.com/notebooks/data_table.ipynb>data table notebook</a>'\n",
              "            + ' to learn more about interactive tables.';\n",
              "          element.innerHTML = '';\n",
              "          dataTable['output_type'] = 'display_data';\n",
              "          await google.colab.output.renderOutput(dataTable, element);\n",
              "          const docLink = document.createElement('div');\n",
              "          docLink.innerHTML = docLinkHtml;\n",
              "          element.appendChild(docLink);\n",
              "        }\n",
              "      </script>\n",
              "    </div>\n",
              "  </div>\n",
              "  "
            ]
          },
          "metadata": {},
          "execution_count": 23
        }
      ]
    },
    {
      "cell_type": "code",
      "source": [
        "#Brasil - ETANOL\n",
        "etanol.groupby('Data da Coleta')[['Valor de Venda']].mean().sort_values(['Data da Coleta', 'Valor de Venda'], ascending=True)\n"
      ],
      "metadata": {
        "id": "nWWgtBeLVyIY",
        "colab": {
          "base_uri": "https://localhost:8080/",
          "height": 1000
        },
        "outputId": "baa01b07-69b3-49f0-d910-56848025d5c5"
      },
      "execution_count": null,
      "outputs": [
        {
          "output_type": "execute_result",
          "data": {
            "text/plain": [
              "                Valor de Venda\n",
              "Data da Coleta                \n",
              "2022-07-01            5.395652\n",
              "2022-07-04            4.879523\n",
              "2022-07-05            5.158455\n",
              "2022-07-06            4.944885\n",
              "2022-07-07            4.820669\n",
              "2022-07-08            4.753214\n",
              "2022-07-11            4.842278\n",
              "2022-07-12            4.928487\n",
              "2022-07-13            4.659464\n",
              "2022-07-14            4.793058\n",
              "2022-07-15            5.588500\n",
              "2022-07-18            4.633960\n",
              "2022-07-19            4.800308\n",
              "2022-07-20            4.722711\n",
              "2022-07-21            4.637457\n",
              "2022-07-22            4.630714\n",
              "2022-07-25            4.654826\n",
              "2022-07-26            4.585583\n",
              "2022-07-27            4.552368\n",
              "2022-07-28            4.358094\n",
              "2022-07-29            4.713889\n",
              "2022-08-01            4.493064\n",
              "2022-08-02            4.548942\n",
              "2022-08-03            4.454240\n",
              "2022-08-04            4.406395\n",
              "2022-08-05            4.681429\n",
              "2022-08-08            4.552473\n",
              "2022-08-09            4.385134\n",
              "2022-08-10            4.310675\n",
              "2022-08-11            4.292282\n",
              "2022-08-12            4.384328\n",
              "2022-08-15            4.355251\n",
              "2022-08-16            4.393867\n",
              "2022-08-17            4.280382\n",
              "2022-08-18            4.186393\n",
              "2022-08-19            3.961842\n",
              "2022-08-22            4.223172\n",
              "2022-08-23            4.226979\n",
              "2022-08-24            4.107153\n",
              "2022-08-25            4.171381\n",
              "2022-08-26            3.926471\n",
              "2022-08-29            4.134431\n",
              "2022-08-30            4.097958\n",
              "2022-08-31            3.994470"
            ],
            "text/html": [
              "\n",
              "  <div id=\"df-5c34413f-49b6-4438-a2d1-30af953c5cbe\">\n",
              "    <div class=\"colab-df-container\">\n",
              "      <div>\n",
              "<style scoped>\n",
              "    .dataframe tbody tr th:only-of-type {\n",
              "        vertical-align: middle;\n",
              "    }\n",
              "\n",
              "    .dataframe tbody tr th {\n",
              "        vertical-align: top;\n",
              "    }\n",
              "\n",
              "    .dataframe thead th {\n",
              "        text-align: right;\n",
              "    }\n",
              "</style>\n",
              "<table border=\"1\" class=\"dataframe\">\n",
              "  <thead>\n",
              "    <tr style=\"text-align: right;\">\n",
              "      <th></th>\n",
              "      <th>Valor de Venda</th>\n",
              "    </tr>\n",
              "    <tr>\n",
              "      <th>Data da Coleta</th>\n",
              "      <th></th>\n",
              "    </tr>\n",
              "  </thead>\n",
              "  <tbody>\n",
              "    <tr>\n",
              "      <th>2022-07-01</th>\n",
              "      <td>5.395652</td>\n",
              "    </tr>\n",
              "    <tr>\n",
              "      <th>2022-07-04</th>\n",
              "      <td>4.879523</td>\n",
              "    </tr>\n",
              "    <tr>\n",
              "      <th>2022-07-05</th>\n",
              "      <td>5.158455</td>\n",
              "    </tr>\n",
              "    <tr>\n",
              "      <th>2022-07-06</th>\n",
              "      <td>4.944885</td>\n",
              "    </tr>\n",
              "    <tr>\n",
              "      <th>2022-07-07</th>\n",
              "      <td>4.820669</td>\n",
              "    </tr>\n",
              "    <tr>\n",
              "      <th>2022-07-08</th>\n",
              "      <td>4.753214</td>\n",
              "    </tr>\n",
              "    <tr>\n",
              "      <th>2022-07-11</th>\n",
              "      <td>4.842278</td>\n",
              "    </tr>\n",
              "    <tr>\n",
              "      <th>2022-07-12</th>\n",
              "      <td>4.928487</td>\n",
              "    </tr>\n",
              "    <tr>\n",
              "      <th>2022-07-13</th>\n",
              "      <td>4.659464</td>\n",
              "    </tr>\n",
              "    <tr>\n",
              "      <th>2022-07-14</th>\n",
              "      <td>4.793058</td>\n",
              "    </tr>\n",
              "    <tr>\n",
              "      <th>2022-07-15</th>\n",
              "      <td>5.588500</td>\n",
              "    </tr>\n",
              "    <tr>\n",
              "      <th>2022-07-18</th>\n",
              "      <td>4.633960</td>\n",
              "    </tr>\n",
              "    <tr>\n",
              "      <th>2022-07-19</th>\n",
              "      <td>4.800308</td>\n",
              "    </tr>\n",
              "    <tr>\n",
              "      <th>2022-07-20</th>\n",
              "      <td>4.722711</td>\n",
              "    </tr>\n",
              "    <tr>\n",
              "      <th>2022-07-21</th>\n",
              "      <td>4.637457</td>\n",
              "    </tr>\n",
              "    <tr>\n",
              "      <th>2022-07-22</th>\n",
              "      <td>4.630714</td>\n",
              "    </tr>\n",
              "    <tr>\n",
              "      <th>2022-07-25</th>\n",
              "      <td>4.654826</td>\n",
              "    </tr>\n",
              "    <tr>\n",
              "      <th>2022-07-26</th>\n",
              "      <td>4.585583</td>\n",
              "    </tr>\n",
              "    <tr>\n",
              "      <th>2022-07-27</th>\n",
              "      <td>4.552368</td>\n",
              "    </tr>\n",
              "    <tr>\n",
              "      <th>2022-07-28</th>\n",
              "      <td>4.358094</td>\n",
              "    </tr>\n",
              "    <tr>\n",
              "      <th>2022-07-29</th>\n",
              "      <td>4.713889</td>\n",
              "    </tr>\n",
              "    <tr>\n",
              "      <th>2022-08-01</th>\n",
              "      <td>4.493064</td>\n",
              "    </tr>\n",
              "    <tr>\n",
              "      <th>2022-08-02</th>\n",
              "      <td>4.548942</td>\n",
              "    </tr>\n",
              "    <tr>\n",
              "      <th>2022-08-03</th>\n",
              "      <td>4.454240</td>\n",
              "    </tr>\n",
              "    <tr>\n",
              "      <th>2022-08-04</th>\n",
              "      <td>4.406395</td>\n",
              "    </tr>\n",
              "    <tr>\n",
              "      <th>2022-08-05</th>\n",
              "      <td>4.681429</td>\n",
              "    </tr>\n",
              "    <tr>\n",
              "      <th>2022-08-08</th>\n",
              "      <td>4.552473</td>\n",
              "    </tr>\n",
              "    <tr>\n",
              "      <th>2022-08-09</th>\n",
              "      <td>4.385134</td>\n",
              "    </tr>\n",
              "    <tr>\n",
              "      <th>2022-08-10</th>\n",
              "      <td>4.310675</td>\n",
              "    </tr>\n",
              "    <tr>\n",
              "      <th>2022-08-11</th>\n",
              "      <td>4.292282</td>\n",
              "    </tr>\n",
              "    <tr>\n",
              "      <th>2022-08-12</th>\n",
              "      <td>4.384328</td>\n",
              "    </tr>\n",
              "    <tr>\n",
              "      <th>2022-08-15</th>\n",
              "      <td>4.355251</td>\n",
              "    </tr>\n",
              "    <tr>\n",
              "      <th>2022-08-16</th>\n",
              "      <td>4.393867</td>\n",
              "    </tr>\n",
              "    <tr>\n",
              "      <th>2022-08-17</th>\n",
              "      <td>4.280382</td>\n",
              "    </tr>\n",
              "    <tr>\n",
              "      <th>2022-08-18</th>\n",
              "      <td>4.186393</td>\n",
              "    </tr>\n",
              "    <tr>\n",
              "      <th>2022-08-19</th>\n",
              "      <td>3.961842</td>\n",
              "    </tr>\n",
              "    <tr>\n",
              "      <th>2022-08-22</th>\n",
              "      <td>4.223172</td>\n",
              "    </tr>\n",
              "    <tr>\n",
              "      <th>2022-08-23</th>\n",
              "      <td>4.226979</td>\n",
              "    </tr>\n",
              "    <tr>\n",
              "      <th>2022-08-24</th>\n",
              "      <td>4.107153</td>\n",
              "    </tr>\n",
              "    <tr>\n",
              "      <th>2022-08-25</th>\n",
              "      <td>4.171381</td>\n",
              "    </tr>\n",
              "    <tr>\n",
              "      <th>2022-08-26</th>\n",
              "      <td>3.926471</td>\n",
              "    </tr>\n",
              "    <tr>\n",
              "      <th>2022-08-29</th>\n",
              "      <td>4.134431</td>\n",
              "    </tr>\n",
              "    <tr>\n",
              "      <th>2022-08-30</th>\n",
              "      <td>4.097958</td>\n",
              "    </tr>\n",
              "    <tr>\n",
              "      <th>2022-08-31</th>\n",
              "      <td>3.994470</td>\n",
              "    </tr>\n",
              "  </tbody>\n",
              "</table>\n",
              "</div>\n",
              "      <button class=\"colab-df-convert\" onclick=\"convertToInteractive('df-5c34413f-49b6-4438-a2d1-30af953c5cbe')\"\n",
              "              title=\"Convert this dataframe to an interactive table.\"\n",
              "              style=\"display:none;\">\n",
              "        \n",
              "  <svg xmlns=\"http://www.w3.org/2000/svg\" height=\"24px\"viewBox=\"0 0 24 24\"\n",
              "       width=\"24px\">\n",
              "    <path d=\"M0 0h24v24H0V0z\" fill=\"none\"/>\n",
              "    <path d=\"M18.56 5.44l.94 2.06.94-2.06 2.06-.94-2.06-.94-.94-2.06-.94 2.06-2.06.94zm-11 1L8.5 8.5l.94-2.06 2.06-.94-2.06-.94L8.5 2.5l-.94 2.06-2.06.94zm10 10l.94 2.06.94-2.06 2.06-.94-2.06-.94-.94-2.06-.94 2.06-2.06.94z\"/><path d=\"M17.41 7.96l-1.37-1.37c-.4-.4-.92-.59-1.43-.59-.52 0-1.04.2-1.43.59L10.3 9.45l-7.72 7.72c-.78.78-.78 2.05 0 2.83L4 21.41c.39.39.9.59 1.41.59.51 0 1.02-.2 1.41-.59l7.78-7.78 2.81-2.81c.8-.78.8-2.07 0-2.86zM5.41 20L4 18.59l7.72-7.72 1.47 1.35L5.41 20z\"/>\n",
              "  </svg>\n",
              "      </button>\n",
              "      \n",
              "  <style>\n",
              "    .colab-df-container {\n",
              "      display:flex;\n",
              "      flex-wrap:wrap;\n",
              "      gap: 12px;\n",
              "    }\n",
              "\n",
              "    .colab-df-convert {\n",
              "      background-color: #E8F0FE;\n",
              "      border: none;\n",
              "      border-radius: 50%;\n",
              "      cursor: pointer;\n",
              "      display: none;\n",
              "      fill: #1967D2;\n",
              "      height: 32px;\n",
              "      padding: 0 0 0 0;\n",
              "      width: 32px;\n",
              "    }\n",
              "\n",
              "    .colab-df-convert:hover {\n",
              "      background-color: #E2EBFA;\n",
              "      box-shadow: 0px 1px 2px rgba(60, 64, 67, 0.3), 0px 1px 3px 1px rgba(60, 64, 67, 0.15);\n",
              "      fill: #174EA6;\n",
              "    }\n",
              "\n",
              "    [theme=dark] .colab-df-convert {\n",
              "      background-color: #3B4455;\n",
              "      fill: #D2E3FC;\n",
              "    }\n",
              "\n",
              "    [theme=dark] .colab-df-convert:hover {\n",
              "      background-color: #434B5C;\n",
              "      box-shadow: 0px 1px 3px 1px rgba(0, 0, 0, 0.15);\n",
              "      filter: drop-shadow(0px 1px 2px rgba(0, 0, 0, 0.3));\n",
              "      fill: #FFFFFF;\n",
              "    }\n",
              "  </style>\n",
              "\n",
              "      <script>\n",
              "        const buttonEl =\n",
              "          document.querySelector('#df-5c34413f-49b6-4438-a2d1-30af953c5cbe button.colab-df-convert');\n",
              "        buttonEl.style.display =\n",
              "          google.colab.kernel.accessAllowed ? 'block' : 'none';\n",
              "\n",
              "        async function convertToInteractive(key) {\n",
              "          const element = document.querySelector('#df-5c34413f-49b6-4438-a2d1-30af953c5cbe');\n",
              "          const dataTable =\n",
              "            await google.colab.kernel.invokeFunction('convertToInteractive',\n",
              "                                                     [key], {});\n",
              "          if (!dataTable) return;\n",
              "\n",
              "          const docLinkHtml = 'Like what you see? Visit the ' +\n",
              "            '<a target=\"_blank\" href=https://colab.research.google.com/notebooks/data_table.ipynb>data table notebook</a>'\n",
              "            + ' to learn more about interactive tables.';\n",
              "          element.innerHTML = '';\n",
              "          dataTable['output_type'] = 'display_data';\n",
              "          await google.colab.output.renderOutput(dataTable, element);\n",
              "          const docLink = document.createElement('div');\n",
              "          docLink.innerHTML = docLinkHtml;\n",
              "          element.appendChild(docLink);\n",
              "        }\n",
              "      </script>\n",
              "    </div>\n",
              "  </div>\n",
              "  "
            ]
          },
          "metadata": {},
          "execution_count": 24
        }
      ]
    },
    {
      "cell_type": "markdown",
      "source": [
        "### **Pergunta 2: Qual o preço médio da gasolina e do etanol nesses dois meses?**"
      ],
      "metadata": {
        "id": "YRZTJvd0V7LA"
      }
    },
    {
      "cell_type": "code",
      "source": [
        "listaCombustiveis=[['Gasolina comum',gasolina_comum.mean()],['Gasolina Aditivada',gasolina_aditivada.mean()],['Etanol',etanol.mean()]]\n",
        "dfCombustiveis = pd.DataFrame(listaCombustiveis, columns=['Combustivel', 'Média'])\n",
        "plt.plot(dfCombustiveis['Combustivel'],dfCombustiveis['Média'], marker='p', mfc='y', mec='r', linestyle='-', ms=15)\n",
        "plt.xticks(rotation=45)"
      ],
      "metadata": {
        "id": "6UW6PMXDWLT_",
        "colab": {
          "base_uri": "https://localhost:8080/",
          "height": 418
        },
        "outputId": "f9f72dcf-8aaa-4291-9c68-c8c7c7c48955"
      },
      "execution_count": null,
      "outputs": [
        {
          "output_type": "stream",
          "name": "stderr",
          "text": [
            "/usr/local/lib/python3.7/dist-packages/ipykernel_launcher.py:1: FutureWarning: DataFrame.mean and DataFrame.median with numeric_only=None will include datetime64 and datetime64tz columns in a future version.\n",
            "  \"\"\"Entry point for launching an IPython kernel.\n",
            "/usr/local/lib/python3.7/dist-packages/ipykernel_launcher.py:1: FutureWarning: Dropping of nuisance columns in DataFrame reductions (with 'numeric_only=None') is deprecated; in a future version this will raise TypeError.  Select only valid columns before calling the reduction.\n",
            "  \"\"\"Entry point for launching an IPython kernel.\n"
          ]
        },
        {
          "output_type": "display_data",
          "data": {
            "text/plain": [
              "<Figure size 432x288 with 1 Axes>"
            ],
            "image/png": "[encoded data removed]"
          },
          "metadata": {
            "needs_background": "light"
          }
        }
      ]
    },
    {
      "cell_type": "markdown",
      "source": [
        "### **Pergunta 3: Quais os 5 estados com o preço médio da gasolina e do etanol mais caros?**"
      ],
      "metadata": {
        "id": "s6J7PMdWWMer"
      }
    },
    {
      "cell_type": "code",
      "source": [
        "#Para GASOLINA COMUM\n",
        "\n",
        "gasolina_comum = combustiveis.loc['GASOLINA'] \n",
        "plt.ylabel('Valor de Venda')\n",
        "plt.xlabel('Estado')\n",
        "plt.plot(gasolina_comum.groupby('Estado - Sigla')[['Valor de Venda']].mean().sort_values(['Valor de Venda'], ascending = False).head(), 'bo--')\n"
      ],
      "metadata": {
        "id": "vGR_z6OVWdmj"
      },
      "execution_count": null,
      "outputs": []
    },
    {
      "cell_type": "code",
      "source": [
        "#Para GASOLINA ADITIVADA\n",
        "\n",
        "gasolina_aditivada = combustiveis.loc['GASOLINA ADITIVADA'] \n",
        "plt.ylabel('Valor de Venda')\n",
        "plt.xlabel('Estado')\n",
        "plt.plot(gasolina_aditivada.groupby('Estado - Sigla')[['Valor de Venda']].mean().sort_values(['Valor de Venda'], ascending = False).head(), 'ko--')"
      ],
      "metadata": {
        "id": "k6S7lZiPG6wd"
      },
      "execution_count": null,
      "outputs": []
    },
    {
      "cell_type": "code",
      "source": [
        "#Para ETANOL\n",
        "\n",
        "etanol = combustiveis.loc['ETANOL'] \n",
        "plt.ylabel('Valor de Venda')\n",
        "plt.xlabel('Estado')\n",
        "plt.plot(etanol.groupby('Estado - Sigla')[['Valor de Venda']].mean().sort_values(['Valor de Venda'], ascending = False).head(), 'go--')"
      ],
      "metadata": {
        "id": "DsZ2cED4HCS3"
      },
      "execution_count": null,
      "outputs": []
    },
    {
      "cell_type": "markdown",
      "source": [
        "### **Pergunta 4: Qual o preço médio da gasolina e do etanol por estado?**"
      ],
      "metadata": {
        "id": "fy-1ArzzW43E"
      }
    },
    {
      "cell_type": "code",
      "source": [
        "#GASOLINA COMUM\n",
        "plt.xticks(rotation=90)\n",
        "plt.ylabel('Valor Médio de Venda Gasolina')\n",
        "plt.xlabel('Estado')\n",
        "plt.plot(gasolina_comum.groupby('Estado - Sigla')[['Valor de Venda']].mean().sort_values(['Valor de Venda'], ascending = False), 'bo-', ms=3)"
      ],
      "metadata": {
        "id": "KxnPMeb4W8dK"
      },
      "execution_count": null,
      "outputs": []
    },
    {
      "cell_type": "code",
      "source": [
        "#GASOLINA ADITIVADA\n",
        "plt.xticks(rotation=90)\n",
        "plt.ylabel('Valor Médio de Venda Gasolina Aditivada')\n",
        "plt.xlabel('Estado')\n",
        "plt.plot(gasolina_aditivada.groupby('Estado - Sigla')[['Valor de Venda']].mean().sort_values(['Valor de Venda'], ascending = False), 'ko-', ms=3)"
      ],
      "metadata": {
        "id": "Nv1oWBYCMR7R"
      },
      "execution_count": null,
      "outputs": []
    },
    {
      "cell_type": "code",
      "source": [
        "#GASOLINA ETANOL\n",
        "plt.xticks(rotation=90)\n",
        "plt.ylabel('Valor Médio de Venda Etanol')\n",
        "plt.xlabel('Estado')\n",
        "plt.plot(etanol.groupby('Estado - Sigla')[['Valor de Venda']].mean().sort_values(['Valor de Venda'], ascending = False), 'go-', ms=3)"
      ],
      "metadata": {
        "id": "fw55mGekMYcz"
      },
      "execution_count": null,
      "outputs": []
    },
    {
      "cell_type": "markdown",
      "source": [
        "### **Pergunta 5: Qual o município que possui o menor preço para a gasolina e para o etanol?**"
      ],
      "metadata": {
        "id": "exfZt-s8XAFr"
      }
    },
    {
      "cell_type": "code",
      "source": [
        "gasolina_comum.groupby(['Produto','Municipio', 'Estado - Sigla'])[['Valor de Venda']].min().sort_values(['Valor de Venda'], ascending = True).head(1)"
      ],
      "metadata": {
        "id": "eoPDgneeXE7T"
      },
      "execution_count": null,
      "outputs": []
    },
    {
      "cell_type": "code",
      "source": [
        "gasolina_aditivada.groupby(['Produto','Municipio', 'Estado - Sigla'])[['Valor de Venda']].min().sort_values(['Valor de Venda'], ascending = True).head(1)"
      ],
      "metadata": {
        "id": "3MQ19craOcs9"
      },
      "execution_count": null,
      "outputs": []
    },
    {
      "cell_type": "code",
      "source": [
        "etanol.groupby(['Produto','Municipio', 'Estado - Sigla'])[['Valor de Venda']].min().sort_values(['Valor de Venda'], ascending = True).head(1)"
      ],
      "metadata": {
        "id": "xmfWNmlXOqSw"
      },
      "execution_count": null,
      "outputs": []
    },
    {
      "cell_type": "markdown",
      "source": [
        "### **Pergunta 6: Qual o município que possui o maior preço para a gasolina e para o etanol?**"
      ],
      "metadata": {
        "id": "6wfJk5MEXIch"
      }
    },
    {
      "cell_type": "code",
      "source": [
        "gasolina_comum.groupby(['Produto','Municipio', 'Estado - Sigla'])[['Valor de Venda']].max().sort_values(['Valor de Venda'], ascending = True).head(1)"
      ],
      "metadata": {
        "id": "r9VokCCqXKmT"
      },
      "execution_count": null,
      "outputs": []
    },
    {
      "cell_type": "code",
      "source": [
        "gasolina_aditivada.groupby(['Produto','Municipio', 'Estado - Sigla'])[['Valor de Venda']].max().sort_values(['Valor de Venda'], ascending = True).head(1)"
      ],
      "metadata": {
        "id": "uT9Bm0n2O9Xp"
      },
      "execution_count": null,
      "outputs": []
    },
    {
      "cell_type": "code",
      "source": [
        "etanol.groupby(['Produto','Municipio', 'Estado - Sigla'])[['Valor de Venda']].max().sort_values(['Valor de Venda'], ascending = True).head(1)"
      ],
      "metadata": {
        "id": "dDUQKtMSPBbK"
      },
      "execution_count": null,
      "outputs": []
    },
    {
      "cell_type": "markdown",
      "source": [
        "### **Pergunta 7: Qual a região que possui o maior valor médio da gasolina?**"
      ],
      "metadata": {
        "id": "4uuIxiDbXOlm"
      }
    },
    {
      "cell_type": "code",
      "source": [
        "gasolina_comum.groupby(['Produto', 'Regiao - Sigla'])[['Valor de Venda']].mean().sort_values(['Valor de Venda'], ascending = True).head(1)"
      ],
      "metadata": {
        "id": "G3tfHn6xXhMM"
      },
      "execution_count": null,
      "outputs": []
    },
    {
      "cell_type": "code",
      "source": [
        "gasolina_aditivada.groupby(['Produto', 'Regiao - Sigla'])[['Valor de Venda']].mean().sort_values(['Valor de Venda'], ascending = True).head(1)"
      ],
      "metadata": {
        "id": "pM_vZUOVPb6L"
      },
      "execution_count": null,
      "outputs": []
    },
    {
      "cell_type": "markdown",
      "source": [
        "### **Pergunta 8: Qual a região que possui o menor valor médio do etanol?**"
      ],
      "metadata": {
        "id": "h5-zHLEiXRYR"
      }
    },
    {
      "cell_type": "code",
      "source": [
        "etanol.groupby(['Produto', 'Regiao - Sigla'])[['Valor de Venda']].mean().sort_values(['Valor de Venda'], ascending = True).head(1)"
      ],
      "metadata": {
        "id": "LZ3VHFLrXYxX"
      },
      "execution_count": null,
      "outputs": []
    },
    {
      "cell_type": "markdown",
      "source": [
        "### **Pergunta 9: Há alguma correlação entre o valor do combustível (gasolina e etanol) e a região onde ele é vendido?**"
      ],
      "metadata": {
        "id": "YGDn2QJzXidB"
      }
    },
    {
      "cell_type": "code",
      "source": [],
      "metadata": {
        "id": "MyAr4-R1Xr-n"
      },
      "execution_count": null,
      "outputs": []
    },
    {
      "cell_type": "markdown",
      "source": [
        "### **Pergunta 10: Há alguma correlação entre o valor do combustível (gasolina e etanol) e a bandeira que vende ele?**"
      ],
      "metadata": {
        "id": "5Y4nsXhkXsUS"
      }
    },
    {
      "cell_type": "code",
      "source": [],
      "metadata": {
        "id": "GxIy8cHUXvP6"
      },
      "execution_count": null,
      "outputs": []
    },
    {
      "cell_type": "markdown",
      "source": [
        "### **2ª Pergunta Extra: Através do coeficiente de variação, explique se as bases de dados utilizadas são mais ou menos homogêneas (Para o Brasil, regiões, estados e municípios).**\n",
        "\n",
        "\n",
        "PS: Há algum padrão de C.V para a indústria de combustível?"
      ],
      "metadata": {
        "id": "4mGn1gyTX3z9"
      }
    },
    {
      "cell_type": "markdown",
      "source": [
        "### **3ª PERGUNTA EXTRA - Há correlação na quantidade de postos pesquisados e a variação nos dados (coeficiente de variação)?**"
      ],
      "metadata": {
        "id": "WMpSANA5YF2i"
      }
    }
  ]
}